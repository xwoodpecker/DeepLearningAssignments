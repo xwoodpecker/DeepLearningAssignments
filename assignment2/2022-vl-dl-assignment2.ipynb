{
 "cells": [
  {
   "cell_type": "markdown",
   "id": "4061833b",
   "metadata": {
    "pycharm": {
     "name": "#%% md\n"
    }
   },
   "source": [
    "# Assignment 2"
   ]
  },
  {
   "cell_type": "markdown",
   "id": "5ea6da1e",
   "metadata": {
    "pycharm": {
     "name": "#%% md\n"
    }
   },
   "source": [
    "## 2.1: Learning Rule for Perceptrons"
   ]
  },
  {
   "cell_type": "code",
   "execution_count": 1,
   "id": "1c1b0502",
   "metadata": {
    "pycharm": {
     "name": "#%%\n"
    }
   },
   "outputs": [
    {
     "name": "stdout",
     "output_type": "stream",
     "text": [
      "Current parameter vector:\n",
      "[[0.5]\n",
      " [0.5]\n",
      " [0.5]]\n",
      "Current parameter vector:\n",
      "[[0.2]\n",
      " [0.4]\n",
      " [0.4]]\n",
      "Current parameter vector:\n",
      "[[-0.1]\n",
      " [ 0.3]\n",
      " [ 0.3]]\n",
      "Current parameter vector:\n",
      "[[-0.3]\n",
      " [ 0.2]\n",
      " [ 0.2]]\n"
     ]
    }
   ],
   "source": [
    "import math\n",
    "import numpy as np\n",
    "\n",
    "\n",
    "def step(x):\n",
    "    return (1.0 if x > 0.0 else 0.0)\n",
    "\n",
    "# data matrix\n",
    "X = np.matrix([[1.00, 0.00, 0.00], \n",
    "               [1.00, 0.00, 1.00], \n",
    "               [1.00, 1.00, 0.00], \n",
    "               [1.00, 1.00, 1.00]])\n",
    "\n",
    "# target vector\n",
    "y = np.matrix([[0], \n",
    "               [0], \n",
    "               [0], \n",
    "               [1]])\n",
    "\n",
    "# parameter vector (initialized as 0.5)\n",
    "w = np.matrix([[0.50], \n",
    "               [0.50], \n",
    "               [0.50]])\n",
    "\n",
    "# number of epochs\n",
    "num_epochs = 20\n",
    "\n",
    "# learning rate\n",
    "eta = 0.1\n",
    "\n",
    "# non-vectorized implementation \n",
    "for e in range(0, num_epochs):\n",
    "    \n",
    "    print('Current parameter vector:')\n",
    "    print(w)\n",
    "    \n",
    "    # number of mispredictions\n",
    "    mp = 0\n",
    "    \n",
    "    # consider all data points (i. e., every row of X)\n",
    "    for i in range(0, X.shape[0]):\n",
    "\n",
    "        # compute prediction for this data point\n",
    "        o = step(X[i,:]*w)\n",
    "        t = y[i]\n",
    "        mp += (0 if o==t else 1)   \n",
    "    \n",
    "        for j in range(0, w.shape[0]):\n",
    "               w[j] = w[j] + eta*(t-o)*X[i,j]\n",
    "                \n",
    "    # break once all data points have been predicted correctly\n",
    "    if (mp==0): \n",
    "        break    "
   ]
  },
  {
   "cell_type": "markdown",
   "id": "589b9b4d",
   "metadata": {
    "pycharm": {
     "name": "#%% md\n"
    }
   },
   "source": [
    "## 2.4: Neural Networks as Universal Function Approximators\n",
    "\n",
    "In the following example, we use a feed-forward neural network to approximate a given function. The example code is a modified version of the code provided ([here](https://machinelearningmastery.com/neural-networks-are-function-approximators/)). You can try approximating another function or modify the architecture of the neural network (e.g., swapping the activation function)."
   ]
  },
  {
   "cell_type": "code",
   "execution_count": 2,
   "id": "c3d09ba0",
   "metadata": {
    "pycharm": {
     "name": "#%%\n"
    }
   },
   "outputs": [
    {
     "name": "stdout",
     "output_type": "stream",
     "text": [
      "-50 50 2.0 2502.0\n",
      "0.0 1.0 0.0 1.0000000000000002\n",
      "MSE: 30205.688\n"
     ]
    },
    {
     "data": {
      "text/plain": "<Figure size 432x288 with 1 Axes>",
      "image/png": "[encoded data removed]"
     },
     "metadata": {
      "needs_background": "light"
     },
     "output_type": "display_data"
    }
   ],
   "source": [
    "from sklearn.preprocessing import MinMaxScaler\n",
    "from sklearn.metrics import mean_squared_error\n",
    "from keras.models import Sequential\n",
    "from keras.layers import Dense\n",
    "from numpy import asarray\n",
    "from matplotlib import pyplot\n",
    "from math import sin\n",
    "\n",
    "# function to approximate\n",
    "def f(x):\n",
    "    return 2.0 + x**2.0\n",
    "\n",
    "# generate training data\n",
    "xs = asarray([x for x in range(-50,51)])\n",
    "ys = asarray([f(x) for x in xs])\n",
    "print(xs.min(), xs.max(), ys.min(), ys.max())\n",
    "\n",
    "# convert training data into matrices\n",
    "xs = xs.reshape((len(xs), 1))\n",
    "ys = ys.reshape((len(ys), 1))\n",
    "\n",
    "# normalize training data\n",
    "scale_x = MinMaxScaler()\n",
    "xs = scale_x.fit_transform(xs)\n",
    "scale_y = MinMaxScaler()\n",
    "ys = scale_y.fit_transform(ys)\n",
    "print(xs.min(), xs.max(), ys.min(), ys.max())\n",
    "\n",
    "# architecture of neural network\n",
    "model = Sequential()\n",
    "model.add(Dense(10, input_dim=1, activation='relu'))\n",
    "model.add(Dense(10, activation='relu'))\n",
    "model.add(Dense(1))\n",
    "\n",
    "# loss function and approximation algorithm\n",
    "model.compile(loss='mse', optimizer='sgd')\n",
    "\n",
    "# ft the model\n",
    "model.fit(xs, ys, epochs=500, batch_size=10, verbose=0)\n",
    "\n",
    "# make predictions\n",
    "yhat = model.predict(xs)\n",
    "\n",
    "# inverse transforms\n",
    "x_plot = scale_x.inverse_transform(xs)\n",
    "y_plot = scale_y.inverse_transform(ys)\n",
    "yhat_plot = scale_y.inverse_transform(yhat)\n",
    "\n",
    "# print model error\n",
    "print('MSE: %.3f' % mean_squared_error(y_plot, yhat_plot))\n",
    "\n",
    "# plot x vs y\n",
    "pyplot.plot(x_plot,y_plot, label='Actual')\n",
    "\n",
    "# plot x vs yhat\n",
    "pyplot.plot(x_plot,yhat_plot, label='Predicted')\n",
    "pyplot.title('Input (x) versus Output (y)')\n",
    "pyplot.xlabel('Input Variable (x)')\n",
    "pyplot.ylabel('Output Variable (y)')\n",
    "pyplot.legend()\n",
    "pyplot.show()"
   ]
  },
  {
   "cell_type": "code",
   "execution_count": 2,
   "id": "775f1931",
   "metadata": {
    "pycharm": {
     "name": "#%%\n"
    }
   },
   "outputs": [],
   "source": []
  }
 ],
 "metadata": {
  "kernelspec": {
   "display_name": "Python 3 (ipykernel)",
   "language": "python",
   "name": "python3"
  },
  "language_info": {
   "codemirror_mode": {
    "name": "ipython",
    "version": 3
   },
   "file_extension": ".py",
   "mimetype": "text/x-python",
   "name": "python",
   "nbconvert_exporter": "python",
   "pygments_lexer": "ipython3",
   "version": "3.9.12"
  }
 },
 "nbformat": 4,
 "nbformat_minor": 5
}