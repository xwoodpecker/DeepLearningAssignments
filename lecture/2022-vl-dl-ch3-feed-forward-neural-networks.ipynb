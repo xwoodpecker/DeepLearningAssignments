{
 "cells": [
  {
   "cell_type": "markdown",
   "metadata": {
    "pycharm": {
     "name": "#%% md\n"
    }
   },
   "source": [
    "# Chapter 3: Feed-Forward Neural Networks\n",
    "\n",
    "## 3.1 Perceptron\n",
    "\n",
    "### Boolean AND as Perceptron"
   ]
  },
  {
   "cell_type": "code",
   "execution_count": 1,
   "metadata": {
    "pycharm": {
     "name": "#%%\n"
    }
   },
   "outputs": [
    {
     "data": {
      "text/plain": "<Figure size 432x288 with 1 Axes>",
      "image/png": "[encoded data removed]"
     },
     "metadata": {
      "needs_background": "light"
     },
     "output_type": "display_data"
    }
   ],
   "source": [
    "import numpy as np\n",
    "import matplotlib.pyplot as plt\n",
    "\n",
    "x0 = np.array([0, 0, 1, 1])\n",
    "x1 = np.array([0, 1, 0, 1])\n",
    "x = np.arange(-0.1, 1.1, 0.1)\n",
    "\n",
    "plt.grid()\n",
    "plt.xlabel('$x_1$')\n",
    "plt.ylabel('$x_2$')\n",
    "plt.xlim([-0.1, 1.1])\n",
    "plt.ylim([-0.1, 1.1])\n",
    "plt.scatter(x0, x1, c=['lightgrey','lightgrey','lightgrey','black'], s=100)\n",
    "plt.plot(x, 1.5 - x, c='red', linewidth=2)\n",
    "plt.show()"
   ]
  },
  {
   "cell_type": "markdown",
   "metadata": {
    "pycharm": {
     "name": "#%% md\n"
    }
   },
   "source": [
    "### Boolean OR as Perceptron"
   ]
  },
  {
   "cell_type": "code",
   "execution_count": 2,
   "metadata": {
    "pycharm": {
     "name": "#%%\n"
    }
   },
   "outputs": [
    {
     "data": {
      "text/plain": "<Figure size 432x288 with 1 Axes>",
      "image/png": "[encoded data removed]"
     },
     "metadata": {
      "needs_background": "light"
     },
     "output_type": "display_data"
    }
   ],
   "source": [
    "import numpy as np\n",
    "import matplotlib.pyplot as plt\n",
    "\n",
    "x0 = np.array([0, 0, 1, 1])\n",
    "x1 = np.array([0, 1, 0, 1])\n",
    "x = np.arange(-0.1, 1.1, 0.1)\n",
    "\n",
    "plt.grid()\n",
    "plt.xlabel('$x_1$')\n",
    "plt.ylabel('$x_2$')\n",
    "plt.xlim([-0.1, 1.1])\n",
    "plt.ylim([-0.1, 1.1])\n",
    "plt.scatter(x0, x1, c=['lightgrey','black','black','black'], s=100)\n",
    "plt.plot(x, 0.5 -x, c='red', linewidth=2)\n",
    "plt.show()"
   ]
  },
  {
   "cell_type": "markdown",
   "metadata": {
    "pycharm": {
     "name": "#%% md\n"
    }
   },
   "source": [
    "### Limitations of a Single Perceptron (XOR)"
   ]
  },
  {
   "cell_type": "code",
   "execution_count": 3,
   "metadata": {
    "pycharm": {
     "name": "#%%\n"
    }
   },
   "outputs": [
    {
     "data": {
      "text/plain": "<Figure size 432x288 with 1 Axes>",
      "image/png": "[encoded data removed]"
     },
     "metadata": {
      "needs_background": "light"
     },
     "output_type": "display_data"
    }
   ],
   "source": [
    "import numpy as np\n",
    "import matplotlib.pyplot as plt\n",
    "\n",
    "x0 = np.array([0, 0, 1, 1])\n",
    "x1 = np.array([0, 1, 0, 1])\n",
    "\n",
    "plt.grid()\n",
    "plt.xlabel('$x_1$')\n",
    "plt.ylabel('$x_2$')\n",
    "plt.xlim([-0.1, 1.1])\n",
    "plt.ylim([-0.1, 1.1])\n",
    "plt.scatter(x0, x1, c=['lightgrey','black','black','lightgrey'], s=100)\n",
    "plt.show()"
   ]
  },
  {
   "cell_type": "markdown",
   "metadata": {
    "pycharm": {
     "name": "#%% md\n"
    }
   },
   "source": [
    "## 3.2 Combining Multiple Perceptrons\n",
    "\n",
    "Nothing to show here."
   ]
  },
  {
   "cell_type": "markdown",
   "metadata": {
    "pycharm": {
     "name": "#%% md\n"
    }
   },
   "source": [
    "## 3.3 Sigmoid Neuron\n",
    "\n",
    "In this example, we learn the parameters of a single Sigmoid Neuron based on the gradient that we developed in the lecture."
   ]
  },
  {
   "cell_type": "code",
   "execution_count": 4,
   "metadata": {
    "pycharm": {
     "name": "#%%\n"
    }
   },
   "outputs": [
    {
     "name": "stdout",
     "output_type": "stream",
     "text": [
      "Current predictions:\n",
      "[[0.58993941]\n",
      " [0.6879454 ]\n",
      " [0.70872352]\n",
      " [0.7015885 ]\n",
      " [0.68053083]\n",
      " [0.78273732]]\n",
      "Number of misclassified data points: 3\n",
      "Current predictions:\n",
      "[[0.5618241 ]\n",
      " [0.6487869 ]\n",
      " [0.66575601]\n",
      " [0.67727344]\n",
      " [0.66059095]\n",
      " [0.75145967]]\n",
      "Number of misclassified data points: 3\n",
      "Current predictions:\n",
      "[[0.53792683]\n",
      " [0.61439402]\n",
      " [0.62728412]\n",
      " [0.65821741]\n",
      " [0.64579303]\n",
      " [0.72495633]]\n",
      "Number of misclassified data points: 3\n",
      "Current predictions:\n",
      "[[0.51777803]\n",
      " [0.58481209]\n",
      " [0.59366382]\n",
      " [0.64400957]\n",
      " [0.63558134]\n",
      " [0.70354303]]\n",
      "Number of misclassified data points: 3\n",
      "Current predictions:\n",
      "[[0.50080083]\n",
      " [0.55963055]\n",
      " [0.56465236]\n",
      " [0.63398741]\n",
      " [0.62924023]\n",
      " [0.68693328]]\n",
      "Number of misclassified data points: 3\n",
      "Current predictions:\n",
      "[[0.48642306]\n",
      " [0.538242  ]\n",
      " [0.53970988]\n",
      " [0.62742479]\n",
      " [0.62604282]\n",
      " [0.67453603]]\n",
      "Number of misclassified data points: 2\n",
      "Current predictions:\n",
      "[[0.47413337]\n",
      " [0.52000621]\n",
      " [0.5182058 ]\n",
      " [0.62363787]\n",
      " [0.62532915]\n",
      " [0.66566536]]\n",
      "Number of misclassified data points: 2\n",
      "Current predictions:\n",
      "[[0.46350085]\n",
      " [0.50433422]\n",
      " [0.49953263]\n",
      " [0.62203151]\n",
      " [0.62653649]\n",
      " [0.65965878]]\n",
      "Number of misclassified data points: 1\n",
      "Current predictions:\n",
      "[[0.4541749 ]\n",
      " [0.49072115]\n",
      " [0.48315632]\n",
      " [0.62211096]\n",
      " [0.62920282]\n",
      " [0.65593123]]\n",
      "Number of misclassified data points: 0\n"
     ]
    }
   ],
   "source": [
    "import math\n",
    "import numpy as np\n",
    "\n",
    "def sigmoid(z):\n",
    "    return 1.0 / (1.0 + np.exp(-z))\n",
    "\n",
    "# data matrix\n",
    "X = np.matrix([[1.00, 0.00, 0.00], \n",
    "               [1.00, 0.25, 0.75], \n",
    "               [1.00, 0.25, 1.00], \n",
    "               [1.00, 0.75, 0.25], \n",
    "               [1.00, 0.75, 0.00], \n",
    "               [1.00, 1.00, 1.00]])\n",
    "\n",
    "# target vector\n",
    "y = np.matrix([[0], \n",
    "               [0], \n",
    "               [0], \n",
    "               [1], \n",
    "               [1], \n",
    "               [1]])\n",
    "\n",
    "# parameter vector (initialized as 0.5)\n",
    "w = np.matrix([[0.50], \n",
    "               [0.50], \n",
    "               [0.50]])\n",
    "\n",
    "# number of epochs\n",
    "num_epochs = 20\n",
    "\n",
    "# learning rate\n",
    "eta = 0.1\n",
    "\n",
    "# non-vectorized implementation \n",
    "for e in range(0, num_epochs):\n",
    "    \n",
    "    # gradient \n",
    "    gradient = np.zeros(w.shape)\n",
    "    \n",
    "    # consider all data points (i. e., every row of X)\n",
    "    for i in range(0, X.shape[0]):\n",
    "\n",
    "        # compute prediction for this data point\n",
    "        y_hat = sigmoid(X[i,:]*w)       \n",
    "        \n",
    "        # compute error\n",
    "        error = (y_hat - y[i])\n",
    "        \n",
    "        # gradient computed for this data point\n",
    "        gradient += X[i,:].transpose()*error        \n",
    "    \n",
    "    # update weight vector\n",
    "    w = w - eta*gradient\n",
    "\n",
    "    print(\"Current predictions:\")\n",
    "    print(sigmoid(X*w))\n",
    "    print(\"Number of misclassified data points: %d\" % sum((sigmoid(X*w) >= 0.5) - y))\n",
    "\n",
    "    # break if all data points have been classified correctly (i. e., early stopping)\n",
    "    if (sum((sigmoid(X*w) >= 0.5) - y) == 0):\n",
    "        break"
   ]
  },
  {
   "cell_type": "markdown",
   "metadata": {
    "pycharm": {
     "name": "#%% md\n"
    }
   },
   "source": [
    "In this second example, we look at a slightly optimized vectorized implementation to learn the parameters of a single Sigmoid Neuron."
   ]
  },
  {
   "cell_type": "code",
   "execution_count": 5,
   "metadata": {
    "pycharm": {
     "name": "#%%\n"
    }
   },
   "outputs": [
    {
     "name": "stdout",
     "output_type": "stream",
     "text": [
      "Current predictions:\n",
      "[[0.58993941]\n",
      " [0.6879454 ]\n",
      " [0.70872352]\n",
      " [0.7015885 ]\n",
      " [0.68053083]\n",
      " [0.78273732]]\n",
      "Number of misclassified data points: 3\n",
      "Current predictions:\n",
      "[[0.5618241 ]\n",
      " [0.6487869 ]\n",
      " [0.66575601]\n",
      " [0.67727344]\n",
      " [0.66059095]\n",
      " [0.75145967]]\n",
      "Number of misclassified data points: 3\n",
      "Current predictions:\n",
      "[[0.53792683]\n",
      " [0.61439402]\n",
      " [0.62728412]\n",
      " [0.65821741]\n",
      " [0.64579303]\n",
      " [0.72495633]]\n",
      "Number of misclassified data points: 3\n",
      "Current predictions:\n",
      "[[0.51777803]\n",
      " [0.58481209]\n",
      " [0.59366382]\n",
      " [0.64400957]\n",
      " [0.63558134]\n",
      " [0.70354303]]\n",
      "Number of misclassified data points: 3\n",
      "Current predictions:\n",
      "[[0.50080083]\n",
      " [0.55963055]\n",
      " [0.56465236]\n",
      " [0.63398741]\n",
      " [0.62924023]\n",
      " [0.68693328]]\n",
      "Number of misclassified data points: 3\n",
      "Current predictions:\n",
      "[[0.48642306]\n",
      " [0.538242  ]\n",
      " [0.53970988]\n",
      " [0.62742479]\n",
      " [0.62604282]\n",
      " [0.67453603]]\n",
      "Number of misclassified data points: 2\n",
      "Current predictions:\n",
      "[[0.47413337]\n",
      " [0.52000621]\n",
      " [0.5182058 ]\n",
      " [0.62363787]\n",
      " [0.62532915]\n",
      " [0.66566536]]\n",
      "Number of misclassified data points: 2\n",
      "Current predictions:\n",
      "[[0.46350085]\n",
      " [0.50433422]\n",
      " [0.49953263]\n",
      " [0.62203151]\n",
      " [0.62653649]\n",
      " [0.65965878]]\n",
      "Number of misclassified data points: 1\n",
      "Current predictions:\n",
      "[[0.4541749 ]\n",
      " [0.49072115]\n",
      " [0.48315632]\n",
      " [0.62211096]\n",
      " [0.62920282]\n",
      " [0.65593123]]\n",
      "Number of misclassified data points: 0\n"
     ]
    }
   ],
   "source": [
    "import math\n",
    "import numpy as np\n",
    "\n",
    "def sigmoid(z):\n",
    "    return 1.0 / (1.0 + np.exp(-z))\n",
    "\n",
    "# data matrix\n",
    "X = np.matrix([[1.00, 0.00, 0.00], \n",
    "               [1.00, 0.25, 0.75], \n",
    "               [1.00, 0.25, 1.00], \n",
    "               [1.00, 0.75, 0.25], \n",
    "               [1.00, 0.75, 0.00], \n",
    "               [1.00, 1.00, 1.00]])\n",
    "\n",
    "# target vector\n",
    "y = np.matrix([[0], \n",
    "               [0], \n",
    "               [0], \n",
    "               [1], \n",
    "               [1], \n",
    "               [1]])\n",
    "\n",
    "# parameter vector (initialized as 0.5)\n",
    "w = np.matrix([[0.50], \n",
    "               [0.50], \n",
    "               [0.50]])\n",
    "\n",
    "# number of epochs\n",
    "num_epochs = 20\n",
    "\n",
    "# learning rate\n",
    "eta = 0.1\n",
    "\n",
    "# vectorized implementation \n",
    "for e in range(0, num_epochs):\n",
    "        \n",
    "    # prediction vector\n",
    "    y_hat = sigmoid(X*w)\n",
    "    \n",
    "    # error vector\n",
    "    error = (y_hat - y)\n",
    "    \n",
    "    # gradient\n",
    "    gradient = X.transpose()*error\n",
    "    \n",
    "    # update weight vector\n",
    "    w = w - eta*gradient\n",
    "\n",
    "    print(\"Current predictions:\")\n",
    "    print(sigmoid(X*w))\n",
    "    print(\"Number of misclassified data points: %d\" % sum((sigmoid(X*w) >= 0.5) - y))\n",
    "\n",
    "    # break if all data points have been classified correctly (i. e., early stopping)\n",
    "    if (sum((sigmoid(X*w) >= 0.5) - y) == 0):\n",
    "        break"
   ]
  },
  {
   "cell_type": "markdown",
   "metadata": {
    "pycharm": {
     "name": "#%% md\n"
    }
   },
   "source": [
    "## 3.4 Backpropagation Algorithm"
   ]
  },
  {
   "cell_type": "markdown",
   "metadata": {
    "pycharm": {
     "name": "#%% md\n"
    }
   },
   "source": [
    "Nothing to show here."
   ]
  },
  {
   "cell_type": "markdown",
   "metadata": {
    "pycharm": {
     "name": "#%% md\n"
    }
   },
   "source": [
    "## 3.5 Other Activation Functions"
   ]
  },
  {
   "cell_type": "code",
   "execution_count": 6,
   "metadata": {
    "pycharm": {
     "name": "#%%\n"
    }
   },
   "outputs": [
    {
     "data": {
      "text/plain": "<Figure size 432x288 with 1 Axes>",
      "image/png": "[encoded data removed]"
     },
     "metadata": {
      "needs_background": "light"
     },
     "output_type": "display_data"
    }
   ],
   "source": [
    "import math\n",
    "import numpy as np\n",
    "import matplotlib.pyplot as plt\n",
    "\n",
    "x = np.arange(-5.1, 5.1, 0.1)\n",
    "y = np.tanh(x)\n",
    "\n",
    "plt.plot(x,y)\n",
    "plt.grid()\n",
    "plt.xlabel('$z$')\n",
    "plt.ylabel('$\\tanh(z)$')\n",
    "plt.show()"
   ]
  },
  {
   "cell_type": "code",
   "execution_count": 7,
   "metadata": {
    "pycharm": {
     "name": "#%%\n"
    }
   },
   "outputs": [
    {
     "data": {
      "text/plain": "<Figure size 432x288 with 1 Axes>",
      "image/png": "[encoded data removed]"
     },
     "metadata": {
      "needs_background": "light"
     },
     "output_type": "display_data"
    }
   ],
   "source": [
    "import math\n",
    "import numpy as np\n",
    "import matplotlib.pyplot as plt\n",
    "\n",
    "x = np.arange(-5.1, 5.1, 0.1)\n",
    "y = np.maximum(0.0, x)\n",
    "\n",
    "plt.plot(x,y)\n",
    "plt.grid()\n",
    "plt.xlabel('$z$')\n",
    "plt.ylabel('$\\operatorname{relu}(z)$')\n",
    "plt.show()"
   ]
  },
  {
   "cell_type": "markdown",
   "metadata": {
    "pycharm": {
     "name": "#%% md\n"
    }
   },
   "source": [
    "## 3.6 (Deep) Feed-Forward Neural Networks\n",
    "\n",
    "### Classifying Handwritten Digits using a Feed-Forward Neural Network\n",
    "\n",
    "In this example, we are going to classify handwritten digits from the famous [MNIST dataset](http://yann.lecun.com/exdb/mnist/) using a feed-forward neural network. This is an example that you will probably see in the recommended textbooks. The MNIST dataset consist of 70,000 handwritten digits that come as 28x28 grayscale images. In the original dataset, each pixel is given as an integer value between 0 (white) and 255 (black).\n",
    "\n",
    "Let us first look at some of the handwritten digits, so that we get a feel for the data."
   ]
  },
  {
   "cell_type": "code",
   "execution_count": 8,
   "metadata": {
    "pycharm": {
     "name": "#%%\n"
    }
   },
   "outputs": [
    {
     "name": "stdout",
     "output_type": "stream",
     "text": [
      "Downloading data from https://storage.googleapis.com/tensorflow/tf-keras-datasets/mnist.npz\n",
      "11493376/11490434 [==============================] - 1s 0us/step\n",
      "11501568/11490434 [==============================] - 1s 0us/step\n"
     ]
    },
    {
     "data": {
      "text/plain": "<Figure size 432x288 with 1 Axes>",
      "image/png": "[encoded data removed]"
     },
     "metadata": {
      "needs_background": "light"
     },
     "output_type": "display_data"
    },
    {
     "name": "stdout",
     "output_type": "stream",
     "text": [
      "Class: 2\n"
     ]
    },
    {
     "data": {
      "text/plain": "<Figure size 432x288 with 1 Axes>",
      "image/png": "[encoded data removed]"
     },
     "metadata": {
      "needs_background": "light"
     },
     "output_type": "display_data"
    },
    {
     "name": "stdout",
     "output_type": "stream",
     "text": [
      "Class: 5\n"
     ]
    },
    {
     "data": {
      "text/plain": "<Figure size 432x288 with 1 Axes>",
      "image/png": "[encoded data removed]"
     },
     "metadata": {
      "needs_background": "light"
     },
     "output_type": "display_data"
    },
    {
     "name": "stdout",
     "output_type": "stream",
     "text": [
      "Class: 4\n"
     ]
    },
    {
     "data": {
      "text/plain": "<Figure size 432x288 with 1 Axes>",
      "image/png": "[encoded data removed]"
     },
     "metadata": {
      "needs_background": "light"
     },
     "output_type": "display_data"
    },
    {
     "name": "stdout",
     "output_type": "stream",
     "text": [
      "Class: 3\n"
     ]
    },
    {
     "data": {
      "text/plain": "<Figure size 432x288 with 1 Axes>",
      "image/png": "[encoded data removed]"
     },
     "metadata": {
      "needs_background": "light"
     },
     "output_type": "display_data"
    },
    {
     "name": "stdout",
     "output_type": "stream",
     "text": [
      "Class: 5\n"
     ]
    },
    {
     "data": {
      "text/plain": "<Figure size 432x288 with 1 Axes>",
      "image/png": "[encoded data removed]"
     },
     "metadata": {
      "needs_background": "light"
     },
     "output_type": "display_data"
    },
    {
     "name": "stdout",
     "output_type": "stream",
     "text": [
      "Class: 6\n"
     ]
    },
    {
     "data": {
      "text/plain": "<Figure size 432x288 with 1 Axes>",
      "image/png": "[encoded data removed]"
     },
     "metadata": {
      "needs_background": "light"
     },
     "output_type": "display_data"
    },
    {
     "name": "stdout",
     "output_type": "stream",
     "text": [
      "Class: 2\n"
     ]
    },
    {
     "data": {
      "text/plain": "<Figure size 432x288 with 1 Axes>",
      "image/png": "[encoded data removed]"
     },
     "metadata": {
      "needs_background": "light"
     },
     "output_type": "display_data"
    },
    {
     "name": "stdout",
     "output_type": "stream",
     "text": [
      "Class: 6\n"
     ]
    },
    {
     "data": {
      "text/plain": "<Figure size 432x288 with 1 Axes>",
      "image/png": "[encoded data removed]"
     },
     "metadata": {
      "needs_background": "light"
     },
     "output_type": "display_data"
    },
    {
     "name": "stdout",
     "output_type": "stream",
     "text": [
      "Class: 9\n"
     ]
    },
    {
     "data": {
      "text/plain": "<Figure size 432x288 with 1 Axes>",
      "image/png": "[encoded data removed]"
     },
     "metadata": {
      "needs_background": "light"
     },
     "output_type": "display_data"
    },
    {
     "name": "stdout",
     "output_type": "stream",
     "text": [
      "Class: 2\n"
     ]
    }
   ],
   "source": [
    "# turn off tensorflow info and warning messages\n",
    "import os\n",
    "os.environ['TF_CPP_MIN_LOG_LEVEL'] = '2' \n",
    "\n",
    "import numpy as np\n",
    "import matplotlib.pyplot as plt\n",
    "import tensorflow\n",
    "from keras.datasets import mnist\n",
    "\n",
    "# download MNIST dataset\n",
    "(X_train, y_train), (X_test, y_test) = mnist.load_data()\n",
    "\n",
    "# select a random sample of ten data points\n",
    "samples = np.random.randint(0, len(X_train), 10)\n",
    "\n",
    "# plot the handwritten digits\n",
    "for s in samples:\n",
    "    digit = X_train[s]\n",
    "    plt.imshow(digit, cmap=plt.cm.binary)\n",
    "    plt.show()\n",
    "    print('Class: %d' % y_train[s])"
   ]
  },
  {
   "cell_type": "markdown",
   "metadata": {
    "pycharm": {
     "name": "#%% md\n"
    }
   },
   "source": [
    "Next, we are going to use a feed-forward neural network to classify those handwritten digits into ten classes (0-9). The network consists of three hidden layers (with 128, 64, and 32) neurons for which we use ReLU as an activation function. The output layer consists of ten neurons, and we use SoftMax to transform the activations, so that they can be interpreted as class probabilities.\n",
    "\n",
    "As a first step, we need to reshape the images, so that each image is a 784-dimensional vector. To this end, we iterate through the pixels of each image row by row. Moreover, we normalize the components of those vectors by dividing them by 255. For the class labels one-hot encoding is employed, so that class labels are mapped to vectors in which only one of the components is one and all others are zero. As a concrete example, the class label 3 would be mapped to the vector [0,0,0,1,0,0,0,0,0,0].\n",
    "\n",
    "As a loss function we use categorical cross-entropy, which can be thought of as the generalization of binary cross-entropy to more than two classes. The model is trained for 150 epochs and we use 20% of the available training data as validation data to monitor whether and when the model starts to overfit."
   ]
  },
  {
   "cell_type": "code",
   "execution_count": 9,
   "metadata": {
    "pycharm": {
     "name": "#%%\n"
    }
   },
   "outputs": [
    {
     "name": "stdout",
     "output_type": "stream",
     "text": [
      "Model: \"sequential\"\n",
      "_________________________________________________________________\n",
      " Layer (type)                Output Shape              Param #   \n",
      "=================================================================\n",
      " dense (Dense)               (None, 128)               100480    \n",
      "                                                                 \n",
      " dense_1 (Dense)             (None, 64)                8256      \n",
      "                                                                 \n",
      " dense_2 (Dense)             (None, 32)                2080      \n",
      "                                                                 \n",
      " dense_3 (Dense)             (None, 10)                330       \n",
      "                                                                 \n",
      "=================================================================\n",
      "Total params: 111,146\n",
      "Trainable params: 111,146\n",
      "Non-trainable params: 0\n",
      "_________________________________________________________________\n",
      "Epoch 1/150\n",
      "480/480 [==============================] - 1s 1ms/step - loss: 1.4481 - accuracy: 0.5989 - val_loss: 0.6260 - val_accuracy: 0.8439\n",
      "Epoch 2/150\n",
      "480/480 [==============================] - 0s 908us/step - loss: 0.5148 - accuracy: 0.8600 - val_loss: 0.3995 - val_accuracy: 0.8883\n",
      "Epoch 3/150\n",
      "480/480 [==============================] - 0s 912us/step - loss: 0.3871 - accuracy: 0.8920 - val_loss: 0.3267 - val_accuracy: 0.9089\n",
      "Epoch 4/150\n",
      "480/480 [==============================] - 0s 925us/step - loss: 0.3324 - accuracy: 0.9061 - val_loss: 0.2905 - val_accuracy: 0.9187\n",
      "Epoch 5/150\n",
      "480/480 [==============================] - 0s 902us/step - loss: 0.2974 - accuracy: 0.9157 - val_loss: 0.2645 - val_accuracy: 0.9263\n",
      "Epoch 6/150\n",
      "480/480 [==============================] - 0s 897us/step - loss: 0.2712 - accuracy: 0.9227 - val_loss: 0.2456 - val_accuracy: 0.9318\n",
      "Epoch 7/150\n",
      "480/480 [==============================] - 0s 904us/step - loss: 0.2511 - accuracy: 0.9291 - val_loss: 0.2340 - val_accuracy: 0.9348\n",
      "Epoch 8/150\n",
      "480/480 [==============================] - 0s 886us/step - loss: 0.2336 - accuracy: 0.9338 - val_loss: 0.2199 - val_accuracy: 0.9383\n",
      "Epoch 9/150\n",
      "480/480 [==============================] - 0s 896us/step - loss: 0.2190 - accuracy: 0.9377 - val_loss: 0.2112 - val_accuracy: 0.9409\n",
      "Epoch 10/150\n",
      "480/480 [==============================] - 0s 889us/step - loss: 0.2069 - accuracy: 0.9409 - val_loss: 0.2000 - val_accuracy: 0.9428\n",
      "Epoch 11/150\n",
      "480/480 [==============================] - 0s 896us/step - loss: 0.1955 - accuracy: 0.9435 - val_loss: 0.1930 - val_accuracy: 0.9457\n",
      "Epoch 12/150\n",
      "480/480 [==============================] - 0s 902us/step - loss: 0.1862 - accuracy: 0.9464 - val_loss: 0.1843 - val_accuracy: 0.9484\n",
      "Epoch 13/150\n",
      "480/480 [==============================] - 0s 908us/step - loss: 0.1774 - accuracy: 0.9488 - val_loss: 0.1785 - val_accuracy: 0.9489\n",
      "Epoch 14/150\n",
      "480/480 [==============================] - 0s 904us/step - loss: 0.1693 - accuracy: 0.9513 - val_loss: 0.1733 - val_accuracy: 0.9508\n",
      "Epoch 15/150\n",
      "480/480 [==============================] - 0s 885us/step - loss: 0.1615 - accuracy: 0.9532 - val_loss: 0.1665 - val_accuracy: 0.9523\n",
      "Epoch 16/150\n",
      "480/480 [==============================] - 0s 891us/step - loss: 0.1551 - accuracy: 0.9552 - val_loss: 0.1643 - val_accuracy: 0.9539\n",
      "Epoch 17/150\n",
      "480/480 [==============================] - 0s 895us/step - loss: 0.1486 - accuracy: 0.9569 - val_loss: 0.1585 - val_accuracy: 0.9551\n",
      "Epoch 18/150\n",
      "480/480 [==============================] - 0s 894us/step - loss: 0.1425 - accuracy: 0.9594 - val_loss: 0.1539 - val_accuracy: 0.9560\n",
      "Epoch 19/150\n",
      "480/480 [==============================] - 0s 902us/step - loss: 0.1372 - accuracy: 0.9606 - val_loss: 0.1510 - val_accuracy: 0.9569\n",
      "Epoch 20/150\n",
      "480/480 [==============================] - 0s 888us/step - loss: 0.1317 - accuracy: 0.9625 - val_loss: 0.1484 - val_accuracy: 0.9565\n",
      "Epoch 21/150\n",
      "480/480 [==============================] - 0s 882us/step - loss: 0.1267 - accuracy: 0.9633 - val_loss: 0.1440 - val_accuracy: 0.9588\n",
      "Epoch 22/150\n",
      "480/480 [==============================] - 0s 898us/step - loss: 0.1218 - accuracy: 0.9651 - val_loss: 0.1447 - val_accuracy: 0.9572\n",
      "Epoch 23/150\n",
      "480/480 [==============================] - 0s 896us/step - loss: 0.1182 - accuracy: 0.9660 - val_loss: 0.1372 - val_accuracy: 0.9601\n",
      "Epoch 24/150\n",
      "480/480 [==============================] - 0s 916us/step - loss: 0.1143 - accuracy: 0.9669 - val_loss: 0.1355 - val_accuracy: 0.9603\n",
      "Epoch 25/150\n",
      "480/480 [==============================] - 0s 919us/step - loss: 0.1101 - accuracy: 0.9679 - val_loss: 0.1345 - val_accuracy: 0.9615\n",
      "Epoch 26/150\n",
      "480/480 [==============================] - 0s 896us/step - loss: 0.1066 - accuracy: 0.9693 - val_loss: 0.1322 - val_accuracy: 0.9615\n",
      "Epoch 27/150\n",
      "480/480 [==============================] - 0s 903us/step - loss: 0.1029 - accuracy: 0.9703 - val_loss: 0.1286 - val_accuracy: 0.9629\n",
      "Epoch 28/150\n",
      "480/480 [==============================] - 0s 969us/step - loss: 0.0994 - accuracy: 0.9719 - val_loss: 0.1280 - val_accuracy: 0.9632\n",
      "Epoch 29/150\n",
      "480/480 [==============================] - 0s 900us/step - loss: 0.0963 - accuracy: 0.9728 - val_loss: 0.1252 - val_accuracy: 0.9637\n",
      "Epoch 30/150\n",
      "480/480 [==============================] - 0s 897us/step - loss: 0.0932 - accuracy: 0.9740 - val_loss: 0.1235 - val_accuracy: 0.9634\n",
      "Epoch 31/150\n",
      "480/480 [==============================] - 0s 895us/step - loss: 0.0905 - accuracy: 0.9742 - val_loss: 0.1221 - val_accuracy: 0.9647\n",
      "Epoch 32/150\n",
      "480/480 [==============================] - 0s 894us/step - loss: 0.0875 - accuracy: 0.9750 - val_loss: 0.1234 - val_accuracy: 0.9643\n",
      "Epoch 33/150\n",
      "480/480 [==============================] - 0s 902us/step - loss: 0.0849 - accuracy: 0.9757 - val_loss: 0.1207 - val_accuracy: 0.9657\n",
      "Epoch 34/150\n",
      "480/480 [==============================] - 0s 894us/step - loss: 0.0822 - accuracy: 0.9768 - val_loss: 0.1177 - val_accuracy: 0.9662\n",
      "Epoch 35/150\n",
      "480/480 [==============================] - 0s 886us/step - loss: 0.0798 - accuracy: 0.9773 - val_loss: 0.1148 - val_accuracy: 0.9663\n",
      "Epoch 36/150\n",
      "480/480 [==============================] - 0s 900us/step - loss: 0.0772 - accuracy: 0.9780 - val_loss: 0.1150 - val_accuracy: 0.9674\n",
      "Epoch 37/150\n",
      "480/480 [==============================] - 0s 912us/step - loss: 0.0749 - accuracy: 0.9790 - val_loss: 0.1154 - val_accuracy: 0.9657\n",
      "Epoch 38/150\n",
      "480/480 [==============================] - 0s 904us/step - loss: 0.0730 - accuracy: 0.9795 - val_loss: 0.1129 - val_accuracy: 0.9667\n",
      "Epoch 39/150\n",
      "480/480 [==============================] - 0s 885us/step - loss: 0.0706 - accuracy: 0.9804 - val_loss: 0.1146 - val_accuracy: 0.9665\n",
      "Epoch 40/150\n",
      "480/480 [==============================] - 0s 879us/step - loss: 0.0690 - accuracy: 0.9804 - val_loss: 0.1124 - val_accuracy: 0.9674\n",
      "Epoch 41/150\n",
      "480/480 [==============================] - 0s 881us/step - loss: 0.0663 - accuracy: 0.9817 - val_loss: 0.1099 - val_accuracy: 0.9687\n",
      "Epoch 42/150\n",
      "480/480 [==============================] - 0s 898us/step - loss: 0.0647 - accuracy: 0.9820 - val_loss: 0.1083 - val_accuracy: 0.9697\n",
      "Epoch 43/150\n",
      "480/480 [==============================] - 0s 919us/step - loss: 0.0628 - accuracy: 0.9824 - val_loss: 0.1083 - val_accuracy: 0.9684\n",
      "Epoch 44/150\n",
      "480/480 [==============================] - 0s 900us/step - loss: 0.0610 - accuracy: 0.9830 - val_loss: 0.1087 - val_accuracy: 0.9682\n",
      "Epoch 45/150\n",
      "480/480 [==============================] - 0s 898us/step - loss: 0.0594 - accuracy: 0.9832 - val_loss: 0.1093 - val_accuracy: 0.9689\n",
      "Epoch 46/150\n",
      "480/480 [==============================] - 0s 889us/step - loss: 0.0577 - accuracy: 0.9839 - val_loss: 0.1051 - val_accuracy: 0.9700\n",
      "Epoch 47/150\n",
      "480/480 [==============================] - 0s 914us/step - loss: 0.0562 - accuracy: 0.9844 - val_loss: 0.1071 - val_accuracy: 0.9697\n",
      "Epoch 48/150\n",
      "480/480 [==============================] - 0s 896us/step - loss: 0.0544 - accuracy: 0.9849 - val_loss: 0.1053 - val_accuracy: 0.9693\n",
      "Epoch 49/150\n",
      "480/480 [==============================] - 0s 881us/step - loss: 0.0532 - accuracy: 0.9851 - val_loss: 0.1063 - val_accuracy: 0.9707\n",
      "Epoch 50/150\n",
      "480/480 [==============================] - 0s 885us/step - loss: 0.0515 - accuracy: 0.9860 - val_loss: 0.1040 - val_accuracy: 0.9700\n",
      "Epoch 51/150\n",
      "480/480 [==============================] - 0s 880us/step - loss: 0.0500 - accuracy: 0.9865 - val_loss: 0.1034 - val_accuracy: 0.9704\n",
      "Epoch 52/150\n",
      "480/480 [==============================] - 0s 882us/step - loss: 0.0483 - accuracy: 0.9870 - val_loss: 0.1092 - val_accuracy: 0.9692\n",
      "Epoch 53/150\n",
      "480/480 [==============================] - 0s 880us/step - loss: 0.0472 - accuracy: 0.9874 - val_loss: 0.1037 - val_accuracy: 0.9707\n",
      "Epoch 54/150\n",
      "480/480 [==============================] - 0s 887us/step - loss: 0.0459 - accuracy: 0.9873 - val_loss: 0.1025 - val_accuracy: 0.9718\n",
      "Epoch 55/150\n",
      "480/480 [==============================] - 0s 881us/step - loss: 0.0446 - accuracy: 0.9883 - val_loss: 0.1044 - val_accuracy: 0.9701\n",
      "Epoch 56/150\n",
      "480/480 [==============================] - 0s 878us/step - loss: 0.0434 - accuracy: 0.9890 - val_loss: 0.1035 - val_accuracy: 0.9717\n",
      "Epoch 57/150\n",
      "480/480 [==============================] - 0s 898us/step - loss: 0.0420 - accuracy: 0.9891 - val_loss: 0.1033 - val_accuracy: 0.9715\n",
      "Epoch 58/150\n",
      "480/480 [==============================] - 0s 886us/step - loss: 0.0412 - accuracy: 0.9891 - val_loss: 0.1033 - val_accuracy: 0.9714\n",
      "Epoch 59/150\n",
      "480/480 [==============================] - 0s 880us/step - loss: 0.0399 - accuracy: 0.9896 - val_loss: 0.1021 - val_accuracy: 0.9711\n",
      "Epoch 60/150\n",
      "480/480 [==============================] - 0s 894us/step - loss: 0.0388 - accuracy: 0.9900 - val_loss: 0.1017 - val_accuracy: 0.9718\n",
      "Epoch 61/150\n",
      "480/480 [==============================] - 0s 896us/step - loss: 0.0378 - accuracy: 0.9905 - val_loss: 0.1027 - val_accuracy: 0.9718\n",
      "Epoch 62/150\n",
      "480/480 [==============================] - 0s 889us/step - loss: 0.0368 - accuracy: 0.9907 - val_loss: 0.1028 - val_accuracy: 0.9717\n",
      "Epoch 63/150\n",
      "480/480 [==============================] - 0s 887us/step - loss: 0.0354 - accuracy: 0.9911 - val_loss: 0.1026 - val_accuracy: 0.9712\n",
      "Epoch 64/150\n",
      "480/480 [==============================] - 0s 883us/step - loss: 0.0347 - accuracy: 0.9915 - val_loss: 0.1016 - val_accuracy: 0.9718\n",
      "Epoch 65/150\n",
      "480/480 [==============================] - 0s 900us/step - loss: 0.0338 - accuracy: 0.9916 - val_loss: 0.1024 - val_accuracy: 0.9725\n",
      "Epoch 66/150\n",
      "480/480 [==============================] - 0s 900us/step - loss: 0.0326 - accuracy: 0.9924 - val_loss: 0.1021 - val_accuracy: 0.9715\n",
      "Epoch 67/150\n",
      "480/480 [==============================] - 0s 891us/step - loss: 0.0320 - accuracy: 0.9922 - val_loss: 0.1047 - val_accuracy: 0.9716\n",
      "Epoch 68/150\n",
      "480/480 [==============================] - 0s 891us/step - loss: 0.0312 - accuracy: 0.9923 - val_loss: 0.1017 - val_accuracy: 0.9714\n",
      "Epoch 69/150\n",
      "480/480 [==============================] - 0s 896us/step - loss: 0.0300 - accuracy: 0.9932 - val_loss: 0.1004 - val_accuracy: 0.9727\n",
      "Epoch 70/150\n",
      "480/480 [==============================] - 0s 904us/step - loss: 0.0294 - accuracy: 0.9930 - val_loss: 0.1024 - val_accuracy: 0.9722\n",
      "Epoch 71/150\n",
      "480/480 [==============================] - 0s 906us/step - loss: 0.0283 - accuracy: 0.9932 - val_loss: 0.1014 - val_accuracy: 0.9718\n",
      "Epoch 72/150\n",
      "480/480 [==============================] - 0s 900us/step - loss: 0.0276 - accuracy: 0.9935 - val_loss: 0.1012 - val_accuracy: 0.9732\n",
      "Epoch 73/150\n",
      "480/480 [==============================] - 0s 900us/step - loss: 0.0271 - accuracy: 0.9938 - val_loss: 0.1014 - val_accuracy: 0.9717\n",
      "Epoch 74/150\n",
      "480/480 [==============================] - 0s 914us/step - loss: 0.0260 - accuracy: 0.9941 - val_loss: 0.1026 - val_accuracy: 0.9729\n",
      "Epoch 75/150\n",
      "480/480 [==============================] - 0s 906us/step - loss: 0.0254 - accuracy: 0.9944 - val_loss: 0.1041 - val_accuracy: 0.9712\n",
      "Epoch 76/150\n",
      "480/480 [==============================] - 0s 902us/step - loss: 0.0247 - accuracy: 0.9946 - val_loss: 0.1028 - val_accuracy: 0.9720\n",
      "Epoch 77/150\n",
      "480/480 [==============================] - 0s 898us/step - loss: 0.0239 - accuracy: 0.9949 - val_loss: 0.1023 - val_accuracy: 0.9730\n",
      "Epoch 78/150\n",
      "480/480 [==============================] - 0s 900us/step - loss: 0.0235 - accuracy: 0.9950 - val_loss: 0.1045 - val_accuracy: 0.9726\n",
      "Epoch 79/150\n",
      "480/480 [==============================] - 0s 881us/step - loss: 0.0227 - accuracy: 0.9951 - val_loss: 0.1028 - val_accuracy: 0.9730\n",
      "Epoch 80/150\n",
      "480/480 [==============================] - 0s 919us/step - loss: 0.0223 - accuracy: 0.9956 - val_loss: 0.1054 - val_accuracy: 0.9722\n",
      "Epoch 81/150\n",
      "480/480 [==============================] - 0s 946us/step - loss: 0.0215 - accuracy: 0.9957 - val_loss: 0.1029 - val_accuracy: 0.9726\n",
      "Epoch 82/150\n",
      "480/480 [==============================] - 1s 1ms/step - loss: 0.0209 - accuracy: 0.9959 - val_loss: 0.1046 - val_accuracy: 0.9722\n",
      "Epoch 83/150\n",
      "480/480 [==============================] - 0s 981us/step - loss: 0.0205 - accuracy: 0.9958 - val_loss: 0.1033 - val_accuracy: 0.9729\n",
      "Epoch 84/150\n",
      "480/480 [==============================] - 0s 914us/step - loss: 0.0199 - accuracy: 0.9960 - val_loss: 0.1055 - val_accuracy: 0.9722\n",
      "Epoch 85/150\n",
      "480/480 [==============================] - 0s 956us/step - loss: 0.0192 - accuracy: 0.9963 - val_loss: 0.1034 - val_accuracy: 0.9725\n",
      "Epoch 86/150\n",
      "480/480 [==============================] - 0s 948us/step - loss: 0.0187 - accuracy: 0.9964 - val_loss: 0.1032 - val_accuracy: 0.9734\n",
      "Epoch 87/150\n",
      "480/480 [==============================] - 0s 914us/step - loss: 0.0182 - accuracy: 0.9965 - val_loss: 0.1045 - val_accuracy: 0.9727\n",
      "Epoch 88/150\n",
      "480/480 [==============================] - 0s 944us/step - loss: 0.0177 - accuracy: 0.9968 - val_loss: 0.1046 - val_accuracy: 0.9718\n",
      "Epoch 89/150\n",
      "480/480 [==============================] - 0s 948us/step - loss: 0.0172 - accuracy: 0.9970 - val_loss: 0.1053 - val_accuracy: 0.9729\n",
      "Epoch 90/150\n",
      "480/480 [==============================] - 0s 902us/step - loss: 0.0167 - accuracy: 0.9970 - val_loss: 0.1062 - val_accuracy: 0.9726\n",
      "Epoch 91/150\n",
      "480/480 [==============================] - 0s 889us/step - loss: 0.0164 - accuracy: 0.9971 - val_loss: 0.1054 - val_accuracy: 0.9733\n",
      "Epoch 92/150\n",
      "480/480 [==============================] - 0s 902us/step - loss: 0.0158 - accuracy: 0.9973 - val_loss: 0.1052 - val_accuracy: 0.9732\n",
      "Epoch 93/150\n",
      "480/480 [==============================] - 0s 877us/step - loss: 0.0153 - accuracy: 0.9974 - val_loss: 0.1062 - val_accuracy: 0.9735\n",
      "Epoch 94/150\n",
      "480/480 [==============================] - 0s 881us/step - loss: 0.0151 - accuracy: 0.9974 - val_loss: 0.1062 - val_accuracy: 0.9722\n",
      "Epoch 95/150\n",
      "480/480 [==============================] - 0s 885us/step - loss: 0.0145 - accuracy: 0.9977 - val_loss: 0.1086 - val_accuracy: 0.9712\n",
      "Epoch 96/150\n",
      "480/480 [==============================] - 0s 881us/step - loss: 0.0142 - accuracy: 0.9977 - val_loss: 0.1061 - val_accuracy: 0.9732\n",
      "Epoch 97/150\n",
      "480/480 [==============================] - 0s 889us/step - loss: 0.0137 - accuracy: 0.9979 - val_loss: 0.1067 - val_accuracy: 0.9725\n",
      "Epoch 98/150\n",
      "480/480 [==============================] - 0s 877us/step - loss: 0.0135 - accuracy: 0.9980 - val_loss: 0.1061 - val_accuracy: 0.9729\n",
      "Epoch 99/150\n",
      "480/480 [==============================] - 0s 883us/step - loss: 0.0131 - accuracy: 0.9982 - val_loss: 0.1072 - val_accuracy: 0.9729\n",
      "Epoch 100/150\n",
      "480/480 [==============================] - 0s 877us/step - loss: 0.0128 - accuracy: 0.9981 - val_loss: 0.1083 - val_accuracy: 0.9733\n",
      "Epoch 101/150\n",
      "480/480 [==============================] - 0s 877us/step - loss: 0.0125 - accuracy: 0.9984 - val_loss: 0.1092 - val_accuracy: 0.9727\n",
      "Epoch 102/150\n",
      "480/480 [==============================] - 0s 881us/step - loss: 0.0121 - accuracy: 0.9984 - val_loss: 0.1075 - val_accuracy: 0.9733\n",
      "Epoch 103/150\n",
      "480/480 [==============================] - 0s 879us/step - loss: 0.0119 - accuracy: 0.9984 - val_loss: 0.1084 - val_accuracy: 0.9730\n",
      "Epoch 104/150\n",
      "480/480 [==============================] - 0s 875us/step - loss: 0.0115 - accuracy: 0.9986 - val_loss: 0.1089 - val_accuracy: 0.9725\n",
      "Epoch 105/150\n",
      "480/480 [==============================] - 0s 879us/step - loss: 0.0112 - accuracy: 0.9988 - val_loss: 0.1112 - val_accuracy: 0.9730\n",
      "Epoch 106/150\n",
      "480/480 [==============================] - 0s 881us/step - loss: 0.0110 - accuracy: 0.9989 - val_loss: 0.1099 - val_accuracy: 0.9729\n",
      "Epoch 107/150\n",
      "480/480 [==============================] - 0s 881us/step - loss: 0.0107 - accuracy: 0.9987 - val_loss: 0.1096 - val_accuracy: 0.9736\n",
      "Epoch 108/150\n",
      "480/480 [==============================] - 0s 879us/step - loss: 0.0104 - accuracy: 0.9988 - val_loss: 0.1099 - val_accuracy: 0.9736\n",
      "Epoch 109/150\n",
      "480/480 [==============================] - 0s 894us/step - loss: 0.0100 - accuracy: 0.9990 - val_loss: 0.1105 - val_accuracy: 0.9731\n",
      "Epoch 110/150\n",
      "480/480 [==============================] - 0s 886us/step - loss: 0.0098 - accuracy: 0.9990 - val_loss: 0.1108 - val_accuracy: 0.9724\n",
      "Epoch 111/150\n",
      "480/480 [==============================] - 0s 885us/step - loss: 0.0096 - accuracy: 0.9989 - val_loss: 0.1101 - val_accuracy: 0.9733\n",
      "Epoch 112/150\n",
      "480/480 [==============================] - 0s 908us/step - loss: 0.0094 - accuracy: 0.9990 - val_loss: 0.1109 - val_accuracy: 0.9731\n",
      "Epoch 113/150\n",
      "480/480 [==============================] - 0s 884us/step - loss: 0.0092 - accuracy: 0.9990 - val_loss: 0.1109 - val_accuracy: 0.9727\n",
      "Epoch 114/150\n",
      "480/480 [==============================] - 0s 879us/step - loss: 0.0090 - accuracy: 0.9990 - val_loss: 0.1115 - val_accuracy: 0.9737\n",
      "Epoch 115/150\n",
      "480/480 [==============================] - 0s 879us/step - loss: 0.0088 - accuracy: 0.9993 - val_loss: 0.1111 - val_accuracy: 0.9730\n",
      "Epoch 116/150\n",
      "480/480 [==============================] - 0s 877us/step - loss: 0.0085 - accuracy: 0.9992 - val_loss: 0.1117 - val_accuracy: 0.9732\n",
      "Epoch 117/150\n",
      "480/480 [==============================] - 0s 887us/step - loss: 0.0083 - accuracy: 0.9991 - val_loss: 0.1121 - val_accuracy: 0.9731\n",
      "Epoch 118/150\n",
      "480/480 [==============================] - 0s 885us/step - loss: 0.0081 - accuracy: 0.9993 - val_loss: 0.1137 - val_accuracy: 0.9736\n",
      "Epoch 119/150\n",
      "480/480 [==============================] - 0s 879us/step - loss: 0.0079 - accuracy: 0.9992 - val_loss: 0.1130 - val_accuracy: 0.9734\n",
      "Epoch 120/150\n",
      "480/480 [==============================] - 0s 879us/step - loss: 0.0078 - accuracy: 0.9993 - val_loss: 0.1124 - val_accuracy: 0.9737\n",
      "Epoch 121/150\n",
      "480/480 [==============================] - 0s 883us/step - loss: 0.0076 - accuracy: 0.9993 - val_loss: 0.1136 - val_accuracy: 0.9738\n",
      "Epoch 122/150\n",
      "480/480 [==============================] - 0s 879us/step - loss: 0.0074 - accuracy: 0.9993 - val_loss: 0.1147 - val_accuracy: 0.9727\n",
      "Epoch 123/150\n",
      "480/480 [==============================] - 0s 879us/step - loss: 0.0072 - accuracy: 0.9995 - val_loss: 0.1141 - val_accuracy: 0.9728\n",
      "Epoch 124/150\n",
      "480/480 [==============================] - 0s 881us/step - loss: 0.0071 - accuracy: 0.9994 - val_loss: 0.1137 - val_accuracy: 0.9736\n",
      "Epoch 125/150\n",
      "480/480 [==============================] - 0s 881us/step - loss: 0.0069 - accuracy: 0.9995 - val_loss: 0.1139 - val_accuracy: 0.9729\n",
      "Epoch 126/150\n",
      "480/480 [==============================] - 0s 883us/step - loss: 0.0068 - accuracy: 0.9995 - val_loss: 0.1142 - val_accuracy: 0.9735\n",
      "Epoch 127/150\n",
      "480/480 [==============================] - 0s 883us/step - loss: 0.0066 - accuracy: 0.9996 - val_loss: 0.1144 - val_accuracy: 0.9736\n",
      "Epoch 128/150\n",
      "480/480 [==============================] - 0s 883us/step - loss: 0.0065 - accuracy: 0.9995 - val_loss: 0.1153 - val_accuracy: 0.9737\n",
      "Epoch 129/150\n",
      "480/480 [==============================] - 0s 881us/step - loss: 0.0063 - accuracy: 0.9995 - val_loss: 0.1154 - val_accuracy: 0.9733\n",
      "Epoch 130/150\n",
      "480/480 [==============================] - 0s 885us/step - loss: 0.0062 - accuracy: 0.9996 - val_loss: 0.1166 - val_accuracy: 0.9730\n",
      "Epoch 131/150\n",
      "480/480 [==============================] - 0s 881us/step - loss: 0.0060 - accuracy: 0.9995 - val_loss: 0.1164 - val_accuracy: 0.9735\n",
      "Epoch 132/150\n",
      "480/480 [==============================] - 0s 883us/step - loss: 0.0059 - accuracy: 0.9996 - val_loss: 0.1159 - val_accuracy: 0.9733\n",
      "Epoch 133/150\n",
      "480/480 [==============================] - 0s 889us/step - loss: 0.0057 - accuracy: 0.9996 - val_loss: 0.1163 - val_accuracy: 0.9737\n",
      "Epoch 134/150\n",
      "480/480 [==============================] - 0s 885us/step - loss: 0.0057 - accuracy: 0.9997 - val_loss: 0.1164 - val_accuracy: 0.9737\n",
      "Epoch 135/150\n",
      "480/480 [==============================] - 0s 887us/step - loss: 0.0055 - accuracy: 0.9997 - val_loss: 0.1164 - val_accuracy: 0.9729\n",
      "Epoch 136/150\n",
      "480/480 [==============================] - 0s 883us/step - loss: 0.0054 - accuracy: 0.9997 - val_loss: 0.1179 - val_accuracy: 0.9732\n",
      "Epoch 137/150\n",
      "480/480 [==============================] - 0s 884us/step - loss: 0.0053 - accuracy: 0.9997 - val_loss: 0.1172 - val_accuracy: 0.9738\n",
      "Epoch 138/150\n",
      "480/480 [==============================] - 0s 887us/step - loss: 0.0052 - accuracy: 0.9997 - val_loss: 0.1178 - val_accuracy: 0.9736\n",
      "Epoch 139/150\n",
      "480/480 [==============================] - 0s 881us/step - loss: 0.0051 - accuracy: 0.9998 - val_loss: 0.1178 - val_accuracy: 0.9734\n",
      "Epoch 140/150\n",
      "480/480 [==============================] - 0s 885us/step - loss: 0.0050 - accuracy: 0.9998 - val_loss: 0.1179 - val_accuracy: 0.9734\n",
      "Epoch 141/150\n",
      "480/480 [==============================] - 0s 883us/step - loss: 0.0049 - accuracy: 0.9998 - val_loss: 0.1180 - val_accuracy: 0.9737\n",
      "Epoch 142/150\n",
      "480/480 [==============================] - 0s 889us/step - loss: 0.0048 - accuracy: 0.9998 - val_loss: 0.1187 - val_accuracy: 0.9741\n",
      "Epoch 143/150\n",
      "480/480 [==============================] - 0s 881us/step - loss: 0.0048 - accuracy: 0.9998 - val_loss: 0.1190 - val_accuracy: 0.9734\n",
      "Epoch 144/150\n",
      "480/480 [==============================] - 0s 878us/step - loss: 0.0046 - accuracy: 0.9998 - val_loss: 0.1186 - val_accuracy: 0.9737\n",
      "Epoch 145/150\n",
      "480/480 [==============================] - 0s 875us/step - loss: 0.0046 - accuracy: 0.9998 - val_loss: 0.1197 - val_accuracy: 0.9734\n",
      "Epoch 146/150\n",
      "480/480 [==============================] - 0s 877us/step - loss: 0.0045 - accuracy: 0.9998 - val_loss: 0.1193 - val_accuracy: 0.9738\n",
      "Epoch 147/150\n",
      "480/480 [==============================] - 0s 881us/step - loss: 0.0043 - accuracy: 0.9998 - val_loss: 0.1203 - val_accuracy: 0.9736\n",
      "Epoch 148/150\n",
      "480/480 [==============================] - 0s 882us/step - loss: 0.0043 - accuracy: 0.9998 - val_loss: 0.1197 - val_accuracy: 0.9735\n",
      "Epoch 149/150\n",
      "480/480 [==============================] - 0s 883us/step - loss: 0.0042 - accuracy: 0.9998 - val_loss: 0.1201 - val_accuracy: 0.9739\n",
      "Epoch 150/150\n",
      "480/480 [==============================] - 0s 885us/step - loss: 0.0041 - accuracy: 0.9998 - val_loss: 0.1201 - val_accuracy: 0.9736\n",
      "313/313 [==============================] - 0s 654us/step - loss: 0.1000 - accuracy: 0.9762\n",
      "Test score: 0.09998516738414764\n",
      "Test accuracy: 0.9761999845504761\n"
     ]
    }
   ],
   "source": [
    "# turn off tensorflow info and warning messages\n",
    "import os\n",
    "os.environ['TF_CPP_MIN_LOG_LEVEL'] = '2' \n",
    "\n",
    "import numpy as np\n",
    "from keras.datasets import mnist\n",
    "from keras.models import Sequential\n",
    "from keras.layers.core import Dense\n",
    "from keras.utils import np_utils\n",
    "\n",
    "# download MNIST dataset\n",
    "(X_train, y_train), (X_test, y_test) = mnist.load_data()\n",
    "\n",
    "# reshape (28 x 28) images into (784 x 1)\n",
    "X_train = X_train.reshape(60000, 784)\n",
    "X_test = X_test.reshape(10000, 784)\n",
    "X_train = X_train.astype('float32')\n",
    "X_test = X_test.astype('float32')\n",
    "\n",
    "# normalize the data\n",
    "X_train /= 255\n",
    "X_test /= 255\n",
    "\n",
    "# one-hot encode the class labels (0-9)\n",
    "Y_train = np_utils.to_categorical(y_train, 10)\n",
    "Y_test = np_utils.to_categorical(y_test, 10)\n",
    "\n",
    "# describe model architecture\n",
    "model = Sequential()\n",
    "model.add(Dense(128, activation='relu', input_shape=(784,)))\n",
    "model.add(Dense(64, activation='relu'))\n",
    "model.add(Dense(32, activation='relu'))\n",
    "model.add(Dense(10, activation='softmax'))\n",
    "model.summary()\n",
    "\n",
    "# compile model\n",
    "model.compile(loss='categorical_crossentropy', optimizer='sgd', metrics=['accuracy'])\n",
    "\n",
    "# train model\n",
    "history = model.fit(X_train, Y_train, batch_size=100, epochs=150, verbose=1, validation_split=0.2)\n",
    "\n",
    "# compute loss and accuracy on test data\n",
    "score = model.evaluate(X_test, Y_test, verbose=1)\n",
    "print(\"Test score:\", score[0])\n",
    "print(\"Test accuracy:\", score[1])"
   ]
  },
  {
   "cell_type": "markdown",
   "metadata": {
    "pycharm": {
     "name": "#%% md\n"
    }
   },
   "source": [
    "This model achieves an accuracy above 97% on our test data. However, as you can see from the loss and accuracy values printed out for the training and validation data after each epoch, the model starts overfitting slightly at around epoch 90. While the loss and the accuracy keep improving on the training data, they stagnate and start deteriorating on the validation data. We can obtain the loss and accuracy values for the training data and validation data from the history of the model and plot them to see this more clearly."
   ]
  },
  {
   "cell_type": "code",
   "execution_count": 10,
   "metadata": {
    "pycharm": {
     "name": "#%%\n"
    }
   },
   "outputs": [
    {
     "data": {
      "text/plain": "<Figure size 432x288 with 1 Axes>",
      "image/png": "[encoded data removed]"
     },
     "metadata": {
      "needs_background": "light"
     },
     "output_type": "display_data"
    }
   ],
   "source": [
    "import matplotlib.pyplot as plt\n",
    "\n",
    "history_dict = history.history\n",
    "train_loss = history_dict['loss']\n",
    "val_loss = history_dict['val_loss']\n",
    "\n",
    "epochs = range(1, len(train_loss) + 1)\n",
    "plt.title('Training and validation loss')\n",
    "plt.plot(epochs, train_loss, label='Training loss')\n",
    "plt.plot(epochs, val_loss, label='Validation loss')\n",
    "plt.xlabel('Epoch')\n",
    "plt.ylabel('Loss')\n",
    "plt.legend()\n",
    "plt.grid()\n",
    "plt.show()"
   ]
  },
  {
   "cell_type": "code",
   "execution_count": 11,
   "metadata": {
    "pycharm": {
     "name": "#%%\n"
    }
   },
   "outputs": [
    {
     "data": {
      "text/plain": "<Figure size 432x288 with 1 Axes>",
      "image/png": "[encoded data removed]"
     },
     "metadata": {
      "needs_background": "light"
     },
     "output_type": "display_data"
    }
   ],
   "source": [
    "import matplotlib.pyplot as plt\n",
    "\n",
    "history_dict = history.history\n",
    "train_acc = history_dict['accuracy']\n",
    "val_acc = history_dict['val_accuracy']\n",
    "\n",
    "epochs = range(1, len(train_loss) + 1)\n",
    "plt.title('Training and validation accuracy')\n",
    "plt.plot(epochs, train_acc, label='Training accuracy')\n",
    "plt.plot(epochs, val_acc, label='Validation accuracy')\n",
    "plt.xlabel('Epoch')\n",
    "plt.ylabel('Accuracy')\n",
    "plt.legend()\n",
    "plt.grid()\n",
    "plt.show()"
   ]
  },
  {
   "cell_type": "markdown",
   "metadata": {
    "pycharm": {
     "name": "#%% md\n"
    }
   },
   "source": [
    "### Classifying Movie Reviews using a Feed-Forward Neural Network\n",
    "\n",
    "As a second concrete example, we will look at a feed-forward neural network that can classify movie reviews from [IMDB](https://www.imdb.com) according to whether they are positive or negative. This is another dataset that is built into Keras and thus easily usable. This example is strongly inspired by Chapter 3.4 in F. Chollet: Deep Learning with Python. The feed-forward network used relies on three hidden layers, one with 32 and another with 16 neurons using ReLU as an activation function. Its output layer consists of a single Sigmoid Neuron, which makes sense given that this is a binary classification problem. Later on in this course, we will see different ways how text inputs, such as the movie reviews in this example, can be represented and fed into a neural network.\n",
    "\n",
    "The implementation considers only the 5000 most frequent words from the dataset. Each movie review is converted into a binary vector with 5000 components, each of which indicates whether the corresponding word is present in the movie review. Note that you can change the number of words that is considered by modifying the value of `num_words`."
   ]
  },
  {
   "cell_type": "code",
   "execution_count": 12,
   "metadata": {
    "pycharm": {
     "name": "#%%\n"
    }
   },
   "outputs": [
    {
     "name": "stdout",
     "output_type": "stream",
     "text": [
      "Downloading data from https://storage.googleapis.com/tensorflow/tf-keras-datasets/imdb.npz\n",
      "17465344/17464789 [==============================] - 2s 0us/step\n",
      "17473536/17464789 [==============================] - 2s 0us/step\n",
      "Downloading data from https://storage.googleapis.com/tensorflow/tf-keras-datasets/imdb_word_index.json\n",
      "1646592/1641221 [==============================] - 0s 0us/step\n",
      "1654784/1641221 [==============================] - 0s 0us/step\n",
      "Example review: ? this film was just brilliant casting location scenery story direction everyone's really suited the part they played and you could just imagine being there robert ? is an amazing actor and now the same being director ? father came from the same scottish island as myself so i loved the fact there was a real connection with this film the witty remarks throughout the film were great it was just brilliant so much that i bought the film as soon as it was released for ? and would recommend it to everyone to watch and the fly ? was amazing really cried at the end it was so sad and you know what they say if you cry at a film it must have been good and this definitely was also ? to the two little ? that played the ? of norman and paul they were just brilliant children are often left out of the ? list i think because the stars that play them all grown up are such a big ? for the whole film but these children are amazing and should be ? for what they have done don't you think the whole story was so lovely because it was true and was someone's life after all that was ? with us all\n",
      "Model: \"sequential_1\"\n",
      "_________________________________________________________________\n",
      " Layer (type)                Output Shape              Param #   \n",
      "=================================================================\n",
      " dense_4 (Dense)             (None, 32)                160032    \n",
      "                                                                 \n",
      " dense_5 (Dense)             (None, 16)                528       \n",
      "                                                                 \n",
      " dense_6 (Dense)             (None, 1)                 17        \n",
      "                                                                 \n",
      "=================================================================\n",
      "Total params: 160,577\n",
      "Trainable params: 160,577\n",
      "Non-trainable params: 0\n",
      "_________________________________________________________________\n",
      "Epoch 1/50\n",
      "200/200 [==============================] - 1s 2ms/step - loss: 0.6920 - accuracy: 0.5218 - val_loss: 0.6892 - val_accuracy: 0.5650\n",
      "Epoch 2/50\n",
      "200/200 [==============================] - 0s 2ms/step - loss: 0.6797 - accuracy: 0.6230 - val_loss: 0.6642 - val_accuracy: 0.6860\n",
      "Epoch 3/50\n",
      "200/200 [==============================] - 0s 2ms/step - loss: 0.6350 - accuracy: 0.7325 - val_loss: 0.6010 - val_accuracy: 0.7658\n",
      "Epoch 4/50\n",
      "200/200 [==============================] - 0s 2ms/step - loss: 0.5542 - accuracy: 0.7886 - val_loss: 0.5085 - val_accuracy: 0.8038\n",
      "Epoch 5/50\n",
      "200/200 [==============================] - 0s 2ms/step - loss: 0.4628 - accuracy: 0.8226 - val_loss: 0.4305 - val_accuracy: 0.8270\n",
      "Epoch 6/50\n",
      "200/200 [==============================] - 0s 2ms/step - loss: 0.3956 - accuracy: 0.8429 - val_loss: 0.3835 - val_accuracy: 0.8396\n",
      "Epoch 7/50\n",
      "200/200 [==============================] - 0s 2ms/step - loss: 0.3541 - accuracy: 0.8583 - val_loss: 0.3563 - val_accuracy: 0.8510\n",
      "Epoch 8/50\n",
      "200/200 [==============================] - 0s 2ms/step - loss: 0.3268 - accuracy: 0.8681 - val_loss: 0.3372 - val_accuracy: 0.8562\n",
      "Epoch 9/50\n",
      "200/200 [==============================] - 0s 2ms/step - loss: 0.3061 - accuracy: 0.8770 - val_loss: 0.3239 - val_accuracy: 0.8618\n",
      "Epoch 10/50\n",
      "200/200 [==============================] - 0s 2ms/step - loss: 0.2897 - accuracy: 0.8814 - val_loss: 0.3146 - val_accuracy: 0.8672\n",
      "Epoch 11/50\n",
      "200/200 [==============================] - 0s 2ms/step - loss: 0.2765 - accuracy: 0.8899 - val_loss: 0.3077 - val_accuracy: 0.8726\n",
      "Epoch 12/50\n",
      "200/200 [==============================] - 0s 2ms/step - loss: 0.2647 - accuracy: 0.8949 - val_loss: 0.3025 - val_accuracy: 0.8760\n",
      "Epoch 13/50\n",
      "200/200 [==============================] - 0s 2ms/step - loss: 0.2552 - accuracy: 0.8986 - val_loss: 0.3065 - val_accuracy: 0.8712\n",
      "Epoch 14/50\n",
      "200/200 [==============================] - 0s 2ms/step - loss: 0.2460 - accuracy: 0.9034 - val_loss: 0.2967 - val_accuracy: 0.8760\n",
      "Epoch 15/50\n",
      "200/200 [==============================] - 0s 2ms/step - loss: 0.2386 - accuracy: 0.9057 - val_loss: 0.2961 - val_accuracy: 0.8826\n",
      "Epoch 16/50\n",
      "200/200 [==============================] - 0s 2ms/step - loss: 0.2307 - accuracy: 0.9107 - val_loss: 0.2916 - val_accuracy: 0.8814\n",
      "Epoch 17/50\n",
      "200/200 [==============================] - 0s 2ms/step - loss: 0.2247 - accuracy: 0.9133 - val_loss: 0.2929 - val_accuracy: 0.8822\n",
      "Epoch 18/50\n",
      "200/200 [==============================] - 0s 2ms/step - loss: 0.2178 - accuracy: 0.9159 - val_loss: 0.2924 - val_accuracy: 0.8792\n",
      "Epoch 19/50\n",
      "200/200 [==============================] - 0s 2ms/step - loss: 0.2126 - accuracy: 0.9194 - val_loss: 0.2923 - val_accuracy: 0.8834\n",
      "Epoch 20/50\n",
      "200/200 [==============================] - 0s 2ms/step - loss: 0.2078 - accuracy: 0.9212 - val_loss: 0.2970 - val_accuracy: 0.8830\n",
      "Epoch 21/50\n",
      "200/200 [==============================] - 0s 2ms/step - loss: 0.2030 - accuracy: 0.9226 - val_loss: 0.2921 - val_accuracy: 0.8816\n",
      "Epoch 22/50\n",
      "200/200 [==============================] - 0s 2ms/step - loss: 0.1985 - accuracy: 0.9237 - val_loss: 0.2921 - val_accuracy: 0.8842\n",
      "Epoch 23/50\n",
      "200/200 [==============================] - 0s 2ms/step - loss: 0.1932 - accuracy: 0.9255 - val_loss: 0.2948 - val_accuracy: 0.8820\n",
      "Epoch 24/50\n",
      "200/200 [==============================] - 0s 2ms/step - loss: 0.1894 - accuracy: 0.9298 - val_loss: 0.2958 - val_accuracy: 0.8834\n",
      "Epoch 25/50\n",
      "200/200 [==============================] - 0s 2ms/step - loss: 0.1845 - accuracy: 0.9299 - val_loss: 0.3020 - val_accuracy: 0.8782\n",
      "Epoch 26/50\n",
      "200/200 [==============================] - 0s 2ms/step - loss: 0.1810 - accuracy: 0.9318 - val_loss: 0.2988 - val_accuracy: 0.8828\n",
      "Epoch 27/50\n",
      "200/200 [==============================] - 0s 2ms/step - loss: 0.1773 - accuracy: 0.9344 - val_loss: 0.3018 - val_accuracy: 0.8842\n",
      "Epoch 28/50\n",
      "200/200 [==============================] - 0s 2ms/step - loss: 0.1736 - accuracy: 0.9361 - val_loss: 0.3027 - val_accuracy: 0.8836\n",
      "Epoch 29/50\n",
      "200/200 [==============================] - 0s 2ms/step - loss: 0.1702 - accuracy: 0.9365 - val_loss: 0.3061 - val_accuracy: 0.8840\n",
      "Epoch 30/50\n",
      "200/200 [==============================] - 0s 2ms/step - loss: 0.1662 - accuracy: 0.9388 - val_loss: 0.3211 - val_accuracy: 0.8800\n",
      "Epoch 31/50\n",
      "200/200 [==============================] - 0s 2ms/step - loss: 0.1641 - accuracy: 0.9397 - val_loss: 0.3168 - val_accuracy: 0.8824\n",
      "Epoch 32/50\n",
      "200/200 [==============================] - 0s 2ms/step - loss: 0.1606 - accuracy: 0.9395 - val_loss: 0.3170 - val_accuracy: 0.8792\n",
      "Epoch 33/50\n",
      "200/200 [==============================] - 0s 2ms/step - loss: 0.1582 - accuracy: 0.9427 - val_loss: 0.3188 - val_accuracy: 0.8780\n",
      "Epoch 34/50\n",
      "200/200 [==============================] - 0s 2ms/step - loss: 0.1545 - accuracy: 0.9416 - val_loss: 0.3252 - val_accuracy: 0.8776\n",
      "Epoch 35/50\n",
      "200/200 [==============================] - 0s 2ms/step - loss: 0.1517 - accuracy: 0.9447 - val_loss: 0.3239 - val_accuracy: 0.8802\n",
      "Epoch 36/50\n",
      "200/200 [==============================] - 0s 2ms/step - loss: 0.1487 - accuracy: 0.9456 - val_loss: 0.3275 - val_accuracy: 0.8782\n",
      "Epoch 37/50\n",
      "200/200 [==============================] - 0s 2ms/step - loss: 0.1468 - accuracy: 0.9466 - val_loss: 0.3404 - val_accuracy: 0.8744\n",
      "Epoch 38/50\n",
      "200/200 [==============================] - 0s 2ms/step - loss: 0.1444 - accuracy: 0.9471 - val_loss: 0.3351 - val_accuracy: 0.8784\n",
      "Epoch 39/50\n",
      "200/200 [==============================] - 0s 2ms/step - loss: 0.1428 - accuracy: 0.9473 - val_loss: 0.3409 - val_accuracy: 0.8776\n",
      "Epoch 40/50\n",
      "200/200 [==============================] - 0s 2ms/step - loss: 0.1385 - accuracy: 0.9488 - val_loss: 0.3417 - val_accuracy: 0.8772\n",
      "Epoch 41/50\n",
      "200/200 [==============================] - 0s 2ms/step - loss: 0.1369 - accuracy: 0.9489 - val_loss: 0.3465 - val_accuracy: 0.8762\n",
      "Epoch 42/50\n",
      "200/200 [==============================] - 0s 2ms/step - loss: 0.1325 - accuracy: 0.9523 - val_loss: 0.3563 - val_accuracy: 0.8738\n",
      "Epoch 43/50\n",
      "200/200 [==============================] - 0s 2ms/step - loss: 0.1316 - accuracy: 0.9532 - val_loss: 0.3526 - val_accuracy: 0.8740\n",
      "Epoch 44/50\n",
      "200/200 [==============================] - 0s 2ms/step - loss: 0.1288 - accuracy: 0.9541 - val_loss: 0.3754 - val_accuracy: 0.8728\n",
      "Epoch 45/50\n",
      "200/200 [==============================] - 0s 2ms/step - loss: 0.1260 - accuracy: 0.9542 - val_loss: 0.3647 - val_accuracy: 0.8742\n",
      "Epoch 46/50\n",
      "200/200 [==============================] - 0s 2ms/step - loss: 0.1246 - accuracy: 0.9560 - val_loss: 0.3662 - val_accuracy: 0.8760\n",
      "Epoch 47/50\n",
      "200/200 [==============================] - 0s 2ms/step - loss: 0.1227 - accuracy: 0.9570 - val_loss: 0.3720 - val_accuracy: 0.8718\n",
      "Epoch 48/50\n",
      "200/200 [==============================] - 0s 2ms/step - loss: 0.1199 - accuracy: 0.9570 - val_loss: 0.3866 - val_accuracy: 0.8724\n",
      "Epoch 49/50\n",
      "200/200 [==============================] - 0s 2ms/step - loss: 0.1168 - accuracy: 0.9589 - val_loss: 0.3785 - val_accuracy: 0.8726\n",
      "Epoch 50/50\n",
      "200/200 [==============================] - 0s 2ms/step - loss: 0.1158 - accuracy: 0.9589 - val_loss: 0.3839 - val_accuracy: 0.8740\n",
      "782/782 [==============================] - 1s 677us/step - loss: 0.4051 - accuracy: 0.8659\n",
      "Test score: 0.4051099121570587\n",
      "Test accuracy: 0.8659200072288513\n"
     ]
    }
   ],
   "source": [
    "# turn off tensorflow info and warning messages\n",
    "import os\n",
    "os.environ['TF_CPP_MIN_LOG_LEVEL'] = '2' \n",
    "\n",
    "import numpy as np\n",
    "from keras.datasets import imdb\n",
    "from keras import models\n",
    "from keras import layers\n",
    "\n",
    "# number of most frequent words to consider\n",
    "num_words = 5000\n",
    "\n",
    "# load IMDB dataset using only the 5,000 most frequent words\n",
    "(train_data, train_labels), (test_data, test_labels) = imdb.load_data(num_words=num_words)\n",
    "\n",
    "# let us print out one of the reviews (? indicates a non-frequent word)\n",
    "word_index = imdb.get_word_index()\n",
    "reverse_word_index = dict([(value, key) for (key, value) in word_index.items()])\n",
    "decoded_review = ' '.join([reverse_word_index.get(i - 3, '?') for i in train_data[0]])\n",
    "print(\"Example review: \" + decoded_review)\n",
    "\n",
    "# for this example, we use a simple representation of reviews as binary 5,000-dimensional vectors\n",
    "def vectorize_sequences(sequences, dimensions=num_words):\n",
    "    results = np.zeros((len(sequences), dimensions))\n",
    "    for i, sequence in enumerate(sequences):\n",
    "        results[i, sequence] = 1\n",
    "    return results\n",
    "\n",
    "X_train = vectorize_sequences(train_data)\n",
    "X_test = vectorize_sequences(test_data)\n",
    "\n",
    "y_train = np.asarray(train_labels).astype('float32')\n",
    "y_test = np.asarray(test_labels).astype('float32')\n",
    "\n",
    "model = models.Sequential()\n",
    "model.add(layers.Dense(32, activation='relu', input_shape=(num_words,)))\n",
    "model.add(layers.Dense(16, activation='relu'))\n",
    "model.add(layers.Dense(1, activation='sigmoid'))\n",
    "model.compile(optimizer='sgd', loss='binary_crossentropy', metrics=['accuracy'])\n",
    "model.summary()\n",
    "history = model.fit(X_train, y_train, epochs=50, batch_size=100, validation_split=0.2)\n",
    "\n",
    "# compute loss and accuracy on test data\n",
    "score = model.evaluate(X_test, y_test, verbose=1)\n",
    "print(\"Test score:\", score[0])\n",
    "print(\"Test accuracy:\", score[1])"
   ]
  },
  {
   "cell_type": "markdown",
   "metadata": {
    "pycharm": {
     "name": "#%% md\n"
    }
   },
   "source": [
    "As we can see, this relatively simple architecture achieves an accuracy of more than 86% on our test data. However, again it becomes clear that the model starts overfitting: while the accuracy and the loss keep improving on the training data, they start deteriorating on the validation data. This phenomenon is visualized in the loss and accuracy plots below."
   ]
  },
  {
   "cell_type": "code",
   "execution_count": 13,
   "metadata": {
    "pycharm": {
     "name": "#%%\n"
    }
   },
   "outputs": [
    {
     "data": {
      "text/plain": "<Figure size 432x288 with 1 Axes>",
      "image/png": "[encoded data removed]"
     },
     "metadata": {
      "needs_background": "light"
     },
     "output_type": "display_data"
    }
   ],
   "source": [
    "import matplotlib.pyplot as plt\n",
    "\n",
    "history_dict = history.history\n",
    "train_loss = history_dict['loss']\n",
    "val_loss = history_dict['val_loss']\n",
    "\n",
    "epochs = range(1, len(train_loss) + 1)\n",
    "plt.title('Training and validation loss')\n",
    "plt.plot(epochs, train_loss, label='Training loss')\n",
    "plt.plot(epochs, val_loss, label='Validation loss')\n",
    "plt.xlabel('Epoch')\n",
    "plt.ylabel('Loss')\n",
    "plt.legend()\n",
    "plt.grid()\n",
    "plt.show()"
   ]
  },
  {
   "cell_type": "code",
   "execution_count": 14,
   "metadata": {
    "pycharm": {
     "name": "#%%\n"
    }
   },
   "outputs": [
    {
     "data": {
      "text/plain": "<Figure size 432x288 with 1 Axes>",
      "image/png": "[encoded data removed]"
     },
     "metadata": {
      "needs_background": "light"
     },
     "output_type": "display_data"
    }
   ],
   "source": [
    "import matplotlib.pyplot as plt\n",
    "\n",
    "history_dict = history.history\n",
    "train_acc = history_dict['accuracy']\n",
    "val_acc = history_dict['val_accuracy']\n",
    "\n",
    "epochs = range(1, len(train_loss) + 1)\n",
    "plt.title('Training and validation accuracy')\n",
    "plt.plot(epochs, train_acc, label='Training accuracy')\n",
    "plt.plot(epochs, val_acc, label='Validation accuracy')\n",
    "plt.xlabel('Epoch')\n",
    "plt.ylabel('Accuracy')\n",
    "plt.legend()\n",
    "plt.grid()\n",
    "plt.show()"
   ]
  },
  {
   "cell_type": "markdown",
   "metadata": {
    "pycharm": {
     "name": "#%% md\n"
    }
   },
   "source": [
    "## 3.7 Overfitting in Feed-Forward Neural Networks\n",
    "\n",
    "To avoid overfitting in feed-forward neural networks, we have several options. As a first option, we can add a regularization term to the loss function to penalize complex models. Depending on which regularizer we use, this will lead to many parameters that are close to zero (L2) or actually zero (L1). As a second option, we can use dropout. When using dropout, in each epoch, a random subset of the neurons (how many is controlled by the dropout probability) is dropped, which can be understood as setting their activation to zero. \n",
    "\n",
    "### Classifying Handwritten Digits using a Feed-Forward Neural Network\n",
    "\n",
    "We modify our above example for classifying handwritten digits by adding L2 regularization to each of the hidden layers. The hyperparameter `alpha` controls the strength of regularization. For simplicity, we use the same value of `alpha` for all three hidden layers."
   ]
  },
  {
   "cell_type": "code",
   "execution_count": 15,
   "metadata": {
    "pycharm": {
     "name": "#%%\n"
    }
   },
   "outputs": [
    {
     "name": "stdout",
     "output_type": "stream",
     "text": [
      "Model: \"sequential_2\"\n",
      "_________________________________________________________________\n",
      " Layer (type)                Output Shape              Param #   \n",
      "=================================================================\n",
      " dense_7 (Dense)             (None, 128)               100480    \n",
      "                                                                 \n",
      " dense_8 (Dense)             (None, 64)                8256      \n",
      "                                                                 \n",
      " dense_9 (Dense)             (None, 32)                2080      \n",
      "                                                                 \n",
      " dense_10 (Dense)            (None, 10)                330       \n",
      "                                                                 \n",
      "=================================================================\n",
      "Total params: 111,146\n",
      "Trainable params: 111,146\n",
      "Non-trainable params: 0\n",
      "_________________________________________________________________\n",
      "Epoch 1/150\n",
      "480/480 [==============================] - 1s 1ms/step - loss: 1.8356 - accuracy: 0.5733 - val_loss: 1.0662 - val_accuracy: 0.8208\n",
      "Epoch 2/150\n",
      "480/480 [==============================] - 0s 916us/step - loss: 0.9138 - accuracy: 0.8410 - val_loss: 0.7743 - val_accuracy: 0.8817\n",
      "Epoch 3/150\n",
      "480/480 [==============================] - 0s 910us/step - loss: 0.7593 - accuracy: 0.8835 - val_loss: 0.7020 - val_accuracy: 0.9000\n",
      "Epoch 4/150\n",
      "480/480 [==============================] - 0s 920us/step - loss: 0.6999 - accuracy: 0.9003 - val_loss: 0.6625 - val_accuracy: 0.9099\n",
      "Epoch 5/150\n",
      "480/480 [==============================] - 0s 919us/step - loss: 0.6624 - accuracy: 0.9089 - val_loss: 0.6302 - val_accuracy: 0.9184\n",
      "Epoch 6/150\n",
      "480/480 [==============================] - 0s 914us/step - loss: 0.6340 - accuracy: 0.9161 - val_loss: 0.6077 - val_accuracy: 0.9229\n",
      "Epoch 7/150\n",
      "480/480 [==============================] - 0s 927us/step - loss: 0.6108 - accuracy: 0.9221 - val_loss: 0.5886 - val_accuracy: 0.9283\n",
      "Epoch 8/150\n",
      "480/480 [==============================] - 0s 919us/step - loss: 0.5905 - accuracy: 0.9262 - val_loss: 0.5712 - val_accuracy: 0.9319\n",
      "Epoch 9/150\n",
      "480/480 [==============================] - 0s 914us/step - loss: 0.5717 - accuracy: 0.9303 - val_loss: 0.5585 - val_accuracy: 0.9341\n",
      "Epoch 10/150\n",
      "480/480 [==============================] - 0s 914us/step - loss: 0.5555 - accuracy: 0.9335 - val_loss: 0.5460 - val_accuracy: 0.9389\n",
      "Epoch 11/150\n",
      "480/480 [==============================] - 0s 927us/step - loss: 0.5404 - accuracy: 0.9373 - val_loss: 0.5295 - val_accuracy: 0.9417\n",
      "Epoch 12/150\n",
      "480/480 [==============================] - 0s 921us/step - loss: 0.5257 - accuracy: 0.9401 - val_loss: 0.5217 - val_accuracy: 0.9433\n",
      "Epoch 13/150\n",
      "480/480 [==============================] - 0s 920us/step - loss: 0.5128 - accuracy: 0.9425 - val_loss: 0.5078 - val_accuracy: 0.9439\n",
      "Epoch 14/150\n",
      "480/480 [==============================] - 0s 920us/step - loss: 0.5004 - accuracy: 0.9450 - val_loss: 0.4975 - val_accuracy: 0.9465\n",
      "Epoch 15/150\n",
      "480/480 [==============================] - 0s 914us/step - loss: 0.4893 - accuracy: 0.9475 - val_loss: 0.4851 - val_accuracy: 0.9495\n",
      "Epoch 16/150\n",
      "480/480 [==============================] - 0s 916us/step - loss: 0.4783 - accuracy: 0.9499 - val_loss: 0.4772 - val_accuracy: 0.9511\n",
      "Epoch 17/150\n",
      "480/480 [==============================] - 0s 916us/step - loss: 0.4679 - accuracy: 0.9522 - val_loss: 0.4697 - val_accuracy: 0.9511\n",
      "Epoch 18/150\n",
      "480/480 [==============================] - 0s 921us/step - loss: 0.4582 - accuracy: 0.9534 - val_loss: 0.4610 - val_accuracy: 0.9547\n",
      "Epoch 19/150\n",
      "480/480 [==============================] - 0s 925us/step - loss: 0.4491 - accuracy: 0.9553 - val_loss: 0.4538 - val_accuracy: 0.9542\n",
      "Epoch 20/150\n",
      "480/480 [==============================] - 0s 918us/step - loss: 0.4403 - accuracy: 0.9565 - val_loss: 0.4467 - val_accuracy: 0.9561\n",
      "Epoch 21/150\n",
      "480/480 [==============================] - 0s 921us/step - loss: 0.4321 - accuracy: 0.9582 - val_loss: 0.4389 - val_accuracy: 0.9558\n",
      "Epoch 22/150\n",
      "480/480 [==============================] - 0s 914us/step - loss: 0.4240 - accuracy: 0.9589 - val_loss: 0.4311 - val_accuracy: 0.9582\n",
      "Epoch 23/150\n",
      "480/480 [==============================] - 0s 916us/step - loss: 0.4161 - accuracy: 0.9605 - val_loss: 0.4291 - val_accuracy: 0.9562\n",
      "Epoch 24/150\n",
      "480/480 [==============================] - 0s 919us/step - loss: 0.4087 - accuracy: 0.9612 - val_loss: 0.4197 - val_accuracy: 0.9590\n",
      "Epoch 25/150\n",
      "480/480 [==============================] - 0s 921us/step - loss: 0.4014 - accuracy: 0.9627 - val_loss: 0.4113 - val_accuracy: 0.9603\n",
      "Epoch 26/150\n",
      "480/480 [==============================] - 0s 919us/step - loss: 0.3942 - accuracy: 0.9638 - val_loss: 0.4065 - val_accuracy: 0.9605\n",
      "Epoch 27/150\n",
      "480/480 [==============================] - 0s 916us/step - loss: 0.3877 - accuracy: 0.9648 - val_loss: 0.4000 - val_accuracy: 0.9613\n",
      "Epoch 28/150\n",
      "480/480 [==============================] - 0s 916us/step - loss: 0.3812 - accuracy: 0.9658 - val_loss: 0.3957 - val_accuracy: 0.9613\n",
      "Epoch 29/150\n",
      "480/480 [==============================] - 0s 923us/step - loss: 0.3746 - accuracy: 0.9669 - val_loss: 0.3906 - val_accuracy: 0.9618\n",
      "Epoch 30/150\n",
      "480/480 [==============================] - 0s 921us/step - loss: 0.3688 - accuracy: 0.9676 - val_loss: 0.3840 - val_accuracy: 0.9627\n",
      "Epoch 31/150\n",
      "480/480 [==============================] - 0s 923us/step - loss: 0.3626 - accuracy: 0.9686 - val_loss: 0.3786 - val_accuracy: 0.9645\n",
      "Epoch 32/150\n",
      "480/480 [==============================] - 0s 923us/step - loss: 0.3569 - accuracy: 0.9693 - val_loss: 0.3757 - val_accuracy: 0.9642\n",
      "Epoch 33/150\n",
      "480/480 [==============================] - 0s 923us/step - loss: 0.3514 - accuracy: 0.9699 - val_loss: 0.3692 - val_accuracy: 0.9653\n",
      "Epoch 34/150\n",
      "480/480 [==============================] - 0s 921us/step - loss: 0.3459 - accuracy: 0.9708 - val_loss: 0.3651 - val_accuracy: 0.9652\n",
      "Epoch 35/150\n",
      "480/480 [==============================] - 0s 923us/step - loss: 0.3409 - accuracy: 0.9715 - val_loss: 0.3604 - val_accuracy: 0.9662\n",
      "Epoch 36/150\n",
      "480/480 [==============================] - 0s 916us/step - loss: 0.3357 - accuracy: 0.9723 - val_loss: 0.3589 - val_accuracy: 0.9654\n",
      "Epoch 37/150\n",
      "480/480 [==============================] - 0s 921us/step - loss: 0.3305 - accuracy: 0.9732 - val_loss: 0.3520 - val_accuracy: 0.9664\n",
      "Epoch 38/150\n",
      "480/480 [==============================] - 0s 929us/step - loss: 0.3259 - accuracy: 0.9731 - val_loss: 0.3477 - val_accuracy: 0.9668\n",
      "Epoch 39/150\n",
      "480/480 [==============================] - 0s 919us/step - loss: 0.3213 - accuracy: 0.9745 - val_loss: 0.3432 - val_accuracy: 0.9669\n",
      "Epoch 40/150\n",
      "480/480 [==============================] - 0s 925us/step - loss: 0.3165 - accuracy: 0.9746 - val_loss: 0.3391 - val_accuracy: 0.9680\n",
      "Epoch 41/150\n",
      "480/480 [==============================] - 0s 927us/step - loss: 0.3121 - accuracy: 0.9758 - val_loss: 0.3366 - val_accuracy: 0.9673\n",
      "Epoch 42/150\n",
      "480/480 [==============================] - 0s 929us/step - loss: 0.3078 - accuracy: 0.9766 - val_loss: 0.3313 - val_accuracy: 0.9688\n",
      "Epoch 43/150\n",
      "480/480 [==============================] - 0s 921us/step - loss: 0.3036 - accuracy: 0.9766 - val_loss: 0.3299 - val_accuracy: 0.9682\n",
      "Epoch 44/150\n",
      "480/480 [==============================] - 0s 927us/step - loss: 0.2994 - accuracy: 0.9774 - val_loss: 0.3262 - val_accuracy: 0.9680\n",
      "Epoch 45/150\n",
      "480/480 [==============================] - 0s 923us/step - loss: 0.2951 - accuracy: 0.9780 - val_loss: 0.3222 - val_accuracy: 0.9684\n",
      "Epoch 46/150\n",
      "480/480 [==============================] - 0s 921us/step - loss: 0.2912 - accuracy: 0.9791 - val_loss: 0.3233 - val_accuracy: 0.9673\n",
      "Epoch 47/150\n",
      "480/480 [==============================] - 0s 944us/step - loss: 0.2874 - accuracy: 0.9791 - val_loss: 0.3136 - val_accuracy: 0.9703\n",
      "Epoch 48/150\n",
      "480/480 [==============================] - 0s 923us/step - loss: 0.2837 - accuracy: 0.9793 - val_loss: 0.3128 - val_accuracy: 0.9691\n",
      "Epoch 49/150\n",
      "480/480 [==============================] - 0s 929us/step - loss: 0.2802 - accuracy: 0.9800 - val_loss: 0.3073 - val_accuracy: 0.9702\n",
      "Epoch 50/150\n",
      "480/480 [==============================] - 0s 929us/step - loss: 0.2764 - accuracy: 0.9805 - val_loss: 0.3060 - val_accuracy: 0.9704\n",
      "Epoch 51/150\n",
      "480/480 [==============================] - 0s 931us/step - loss: 0.2731 - accuracy: 0.9809 - val_loss: 0.3020 - val_accuracy: 0.9707\n",
      "Epoch 52/150\n",
      "480/480 [==============================] - 0s 931us/step - loss: 0.2696 - accuracy: 0.9807 - val_loss: 0.3024 - val_accuracy: 0.9701\n",
      "Epoch 53/150\n",
      "480/480 [==============================] - 0s 936us/step - loss: 0.2662 - accuracy: 0.9816 - val_loss: 0.2983 - val_accuracy: 0.9707\n",
      "Epoch 54/150\n",
      "480/480 [==============================] - 0s 929us/step - loss: 0.2631 - accuracy: 0.9821 - val_loss: 0.2950 - val_accuracy: 0.9704\n",
      "Epoch 55/150\n",
      "480/480 [==============================] - 0s 931us/step - loss: 0.2599 - accuracy: 0.9827 - val_loss: 0.2919 - val_accuracy: 0.9708\n",
      "Epoch 56/150\n",
      "480/480 [==============================] - 0s 925us/step - loss: 0.2568 - accuracy: 0.9823 - val_loss: 0.2879 - val_accuracy: 0.9714\n",
      "Epoch 57/150\n",
      "480/480 [==============================] - 0s 928us/step - loss: 0.2538 - accuracy: 0.9829 - val_loss: 0.2850 - val_accuracy: 0.9707\n",
      "Epoch 58/150\n",
      "480/480 [==============================] - 0s 929us/step - loss: 0.2507 - accuracy: 0.9833 - val_loss: 0.2850 - val_accuracy: 0.9700\n",
      "Epoch 59/150\n",
      "480/480 [==============================] - 0s 929us/step - loss: 0.2479 - accuracy: 0.9838 - val_loss: 0.2799 - val_accuracy: 0.9722\n",
      "Epoch 60/150\n",
      "480/480 [==============================] - 0s 931us/step - loss: 0.2452 - accuracy: 0.9840 - val_loss: 0.2774 - val_accuracy: 0.9722\n",
      "Epoch 61/150\n",
      "480/480 [==============================] - 0s 925us/step - loss: 0.2422 - accuracy: 0.9844 - val_loss: 0.2757 - val_accuracy: 0.9717\n",
      "Epoch 62/150\n",
      "480/480 [==============================] - 0s 931us/step - loss: 0.2397 - accuracy: 0.9843 - val_loss: 0.2744 - val_accuracy: 0.9714\n",
      "Epoch 63/150\n",
      "480/480 [==============================] - 0s 930us/step - loss: 0.2369 - accuracy: 0.9848 - val_loss: 0.2717 - val_accuracy: 0.9718\n",
      "Epoch 64/150\n",
      "480/480 [==============================] - 0s 944us/step - loss: 0.2343 - accuracy: 0.9850 - val_loss: 0.2702 - val_accuracy: 0.9720\n",
      "Epoch 65/150\n",
      "480/480 [==============================] - 0s 939us/step - loss: 0.2315 - accuracy: 0.9853 - val_loss: 0.2671 - val_accuracy: 0.9727\n",
      "Epoch 66/150\n",
      "480/480 [==============================] - 0s 925us/step - loss: 0.2291 - accuracy: 0.9859 - val_loss: 0.2650 - val_accuracy: 0.9720\n",
      "Epoch 67/150\n",
      "480/480 [==============================] - 0s 929us/step - loss: 0.2267 - accuracy: 0.9857 - val_loss: 0.2649 - val_accuracy: 0.9725\n",
      "Epoch 68/150\n",
      "480/480 [==============================] - 0s 930us/step - loss: 0.2245 - accuracy: 0.9858 - val_loss: 0.2608 - val_accuracy: 0.9732\n",
      "Epoch 69/150\n",
      "480/480 [==============================] - 0s 929us/step - loss: 0.2219 - accuracy: 0.9860 - val_loss: 0.2607 - val_accuracy: 0.9710\n",
      "Epoch 70/150\n",
      "480/480 [==============================] - 0s 921us/step - loss: 0.2197 - accuracy: 0.9866 - val_loss: 0.2575 - val_accuracy: 0.9722\n",
      "Epoch 71/150\n",
      "480/480 [==============================] - 0s 935us/step - loss: 0.2173 - accuracy: 0.9872 - val_loss: 0.2592 - val_accuracy: 0.9718\n",
      "Epoch 72/150\n",
      "480/480 [==============================] - 0s 925us/step - loss: 0.2152 - accuracy: 0.9865 - val_loss: 0.2542 - val_accuracy: 0.9718\n",
      "Epoch 73/150\n",
      "480/480 [==============================] - 0s 929us/step - loss: 0.2131 - accuracy: 0.9868 - val_loss: 0.2515 - val_accuracy: 0.9731\n",
      "Epoch 74/150\n",
      "480/480 [==============================] - 0s 937us/step - loss: 0.2107 - accuracy: 0.9874 - val_loss: 0.2491 - val_accuracy: 0.9738\n",
      "Epoch 75/150\n",
      "480/480 [==============================] - 0s 929us/step - loss: 0.2086 - accuracy: 0.9874 - val_loss: 0.2481 - val_accuracy: 0.9729\n",
      "Epoch 76/150\n",
      "480/480 [==============================] - 0s 944us/step - loss: 0.2067 - accuracy: 0.9877 - val_loss: 0.2466 - val_accuracy: 0.9728\n",
      "Epoch 77/150\n",
      "480/480 [==============================] - 0s 1ms/step - loss: 0.2046 - accuracy: 0.9879 - val_loss: 0.2456 - val_accuracy: 0.9733\n",
      "Epoch 78/150\n",
      "480/480 [==============================] - 0s 946us/step - loss: 0.2027 - accuracy: 0.9884 - val_loss: 0.2430 - val_accuracy: 0.9733\n",
      "Epoch 79/150\n",
      "480/480 [==============================] - 0s 931us/step - loss: 0.2010 - accuracy: 0.9884 - val_loss: 0.2410 - val_accuracy: 0.9729\n",
      "Epoch 80/150\n",
      "480/480 [==============================] - 0s 1ms/step - loss: 0.1989 - accuracy: 0.9884 - val_loss: 0.2414 - val_accuracy: 0.9736\n",
      "Epoch 81/150\n",
      "480/480 [==============================] - 0s 971us/step - loss: 0.1972 - accuracy: 0.9887 - val_loss: 0.2380 - val_accuracy: 0.9735\n",
      "Epoch 82/150\n",
      "480/480 [==============================] - 0s 996us/step - loss: 0.1952 - accuracy: 0.9887 - val_loss: 0.2370 - val_accuracy: 0.9727\n",
      "Epoch 83/150\n",
      "480/480 [==============================] - 0s 944us/step - loss: 0.1934 - accuracy: 0.9889 - val_loss: 0.2352 - val_accuracy: 0.9741\n",
      "Epoch 84/150\n",
      "480/480 [==============================] - 0s 935us/step - loss: 0.1919 - accuracy: 0.9892 - val_loss: 0.2336 - val_accuracy: 0.9739\n",
      "Epoch 85/150\n",
      "480/480 [==============================] - 0s 944us/step - loss: 0.1901 - accuracy: 0.9888 - val_loss: 0.2326 - val_accuracy: 0.9737\n",
      "Epoch 86/150\n",
      "480/480 [==============================] - 1s 1ms/step - loss: 0.1882 - accuracy: 0.9899 - val_loss: 0.2311 - val_accuracy: 0.9743\n",
      "Epoch 87/150\n",
      "480/480 [==============================] - 0s 1ms/step - loss: 0.1867 - accuracy: 0.9899 - val_loss: 0.2303 - val_accuracy: 0.9744\n",
      "Epoch 88/150\n",
      "480/480 [==============================] - 0s 1ms/step - loss: 0.1849 - accuracy: 0.9899 - val_loss: 0.2274 - val_accuracy: 0.9741\n",
      "Epoch 89/150\n",
      "480/480 [==============================] - 0s 971us/step - loss: 0.1835 - accuracy: 0.9899 - val_loss: 0.2271 - val_accuracy: 0.9746\n",
      "Epoch 90/150\n",
      "480/480 [==============================] - 0s 1ms/step - loss: 0.1817 - accuracy: 0.9904 - val_loss: 0.2255 - val_accuracy: 0.9734\n",
      "Epoch 91/150\n",
      "480/480 [==============================] - 0s 1ms/step - loss: 0.1802 - accuracy: 0.9906 - val_loss: 0.2252 - val_accuracy: 0.9740\n",
      "Epoch 92/150\n",
      "480/480 [==============================] - 0s 967us/step - loss: 0.1789 - accuracy: 0.9905 - val_loss: 0.2220 - val_accuracy: 0.9745\n",
      "Epoch 93/150\n",
      "480/480 [==============================] - 0s 985us/step - loss: 0.1775 - accuracy: 0.9906 - val_loss: 0.2232 - val_accuracy: 0.9740\n",
      "Epoch 94/150\n",
      "480/480 [==============================] - 0s 992us/step - loss: 0.1759 - accuracy: 0.9904 - val_loss: 0.2218 - val_accuracy: 0.9742\n",
      "Epoch 95/150\n",
      "480/480 [==============================] - 0s 1ms/step - loss: 0.1744 - accuracy: 0.9913 - val_loss: 0.2209 - val_accuracy: 0.9737\n",
      "Epoch 96/150\n",
      "480/480 [==============================] - 0s 950us/step - loss: 0.1731 - accuracy: 0.9911 - val_loss: 0.2178 - val_accuracy: 0.9747\n",
      "Epoch 97/150\n",
      "480/480 [==============================] - 0s 967us/step - loss: 0.1717 - accuracy: 0.9909 - val_loss: 0.2175 - val_accuracy: 0.9737\n",
      "Epoch 98/150\n",
      "480/480 [==============================] - 0s 971us/step - loss: 0.1703 - accuracy: 0.9914 - val_loss: 0.2175 - val_accuracy: 0.9731\n",
      "Epoch 99/150\n",
      "480/480 [==============================] - 0s 990us/step - loss: 0.1689 - accuracy: 0.9916 - val_loss: 0.2145 - val_accuracy: 0.9749\n",
      "Epoch 100/150\n",
      "480/480 [==============================] - 0s 979us/step - loss: 0.1675 - accuracy: 0.9916 - val_loss: 0.2141 - val_accuracy: 0.9748\n",
      "Epoch 101/150\n",
      "480/480 [==============================] - 0s 977us/step - loss: 0.1664 - accuracy: 0.9915 - val_loss: 0.2116 - val_accuracy: 0.9752\n",
      "Epoch 102/150\n",
      "480/480 [==============================] - 0s 1000us/step - loss: 0.1652 - accuracy: 0.9918 - val_loss: 0.2106 - val_accuracy: 0.9750\n",
      "Epoch 103/150\n",
      "480/480 [==============================] - 0s 971us/step - loss: 0.1639 - accuracy: 0.9923 - val_loss: 0.2103 - val_accuracy: 0.9747\n",
      "Epoch 104/150\n",
      "480/480 [==============================] - 0s 962us/step - loss: 0.1627 - accuracy: 0.9920 - val_loss: 0.2093 - val_accuracy: 0.9740\n",
      "Epoch 105/150\n",
      "480/480 [==============================] - 0s 965us/step - loss: 0.1615 - accuracy: 0.9922 - val_loss: 0.2083 - val_accuracy: 0.9743\n",
      "Epoch 106/150\n",
      "480/480 [==============================] - 0s 975us/step - loss: 0.1603 - accuracy: 0.9926 - val_loss: 0.2082 - val_accuracy: 0.9750\n",
      "Epoch 107/150\n",
      "480/480 [==============================] - 0s 1ms/step - loss: 0.1593 - accuracy: 0.9922 - val_loss: 0.2087 - val_accuracy: 0.9742\n",
      "Epoch 108/150\n",
      "480/480 [==============================] - 0s 1ms/step - loss: 0.1580 - accuracy: 0.9928 - val_loss: 0.2057 - val_accuracy: 0.9747\n",
      "Epoch 109/150\n",
      "480/480 [==============================] - 0s 996us/step - loss: 0.1569 - accuracy: 0.9927 - val_loss: 0.2041 - val_accuracy: 0.9753\n",
      "Epoch 110/150\n",
      "480/480 [==============================] - 0s 1ms/step - loss: 0.1558 - accuracy: 0.9926 - val_loss: 0.2043 - val_accuracy: 0.9753\n",
      "Epoch 111/150\n",
      "480/480 [==============================] - 0s 1ms/step - loss: 0.1548 - accuracy: 0.9928 - val_loss: 0.2050 - val_accuracy: 0.9753\n",
      "Epoch 112/150\n",
      "480/480 [==============================] - 0s 987us/step - loss: 0.1536 - accuracy: 0.9930 - val_loss: 0.2019 - val_accuracy: 0.9750\n",
      "Epoch 113/150\n",
      "480/480 [==============================] - 0s 990us/step - loss: 0.1526 - accuracy: 0.9928 - val_loss: 0.2004 - val_accuracy: 0.9754\n",
      "Epoch 114/150\n",
      "480/480 [==============================] - 0s 977us/step - loss: 0.1516 - accuracy: 0.9933 - val_loss: 0.2006 - val_accuracy: 0.9757\n",
      "Epoch 115/150\n",
      "480/480 [==============================] - 0s 981us/step - loss: 0.1505 - accuracy: 0.9933 - val_loss: 0.2009 - val_accuracy: 0.9757\n",
      "Epoch 116/150\n",
      "480/480 [==============================] - 0s 994us/step - loss: 0.1497 - accuracy: 0.9935 - val_loss: 0.1992 - val_accuracy: 0.9760\n",
      "Epoch 117/150\n",
      "480/480 [==============================] - 0s 992us/step - loss: 0.1488 - accuracy: 0.9935 - val_loss: 0.1975 - val_accuracy: 0.9754\n",
      "Epoch 118/150\n",
      "480/480 [==============================] - 0s 975us/step - loss: 0.1476 - accuracy: 0.9938 - val_loss: 0.1972 - val_accuracy: 0.9750\n",
      "Epoch 119/150\n",
      "480/480 [==============================] - 0s 990us/step - loss: 0.1467 - accuracy: 0.9936 - val_loss: 0.1974 - val_accuracy: 0.9757\n",
      "Epoch 120/150\n",
      "480/480 [==============================] - 0s 969us/step - loss: 0.1456 - accuracy: 0.9937 - val_loss: 0.1954 - val_accuracy: 0.9753\n",
      "Epoch 121/150\n",
      "480/480 [==============================] - 0s 969us/step - loss: 0.1447 - accuracy: 0.9938 - val_loss: 0.1953 - val_accuracy: 0.9756\n",
      "Epoch 122/150\n",
      "480/480 [==============================] - 0s 1ms/step - loss: 0.1440 - accuracy: 0.9937 - val_loss: 0.1939 - val_accuracy: 0.9753\n",
      "Epoch 123/150\n",
      "480/480 [==============================] - 0s 992us/step - loss: 0.1432 - accuracy: 0.9940 - val_loss: 0.1927 - val_accuracy: 0.9758\n",
      "Epoch 124/150\n",
      "480/480 [==============================] - 0s 954us/step - loss: 0.1423 - accuracy: 0.9938 - val_loss: 0.1934 - val_accuracy: 0.9753\n",
      "Epoch 125/150\n",
      "480/480 [==============================] - 0s 971us/step - loss: 0.1414 - accuracy: 0.9941 - val_loss: 0.1916 - val_accuracy: 0.9764\n",
      "Epoch 126/150\n",
      "480/480 [==============================] - 0s 981us/step - loss: 0.1405 - accuracy: 0.9943 - val_loss: 0.1910 - val_accuracy: 0.9765\n",
      "Epoch 127/150\n",
      "480/480 [==============================] - 0s 987us/step - loss: 0.1398 - accuracy: 0.9943 - val_loss: 0.1907 - val_accuracy: 0.9763\n",
      "Epoch 128/150\n",
      "480/480 [==============================] - 0s 977us/step - loss: 0.1390 - accuracy: 0.9942 - val_loss: 0.1888 - val_accuracy: 0.9762\n",
      "Epoch 129/150\n",
      "480/480 [==============================] - 0s 967us/step - loss: 0.1382 - accuracy: 0.9944 - val_loss: 0.1898 - val_accuracy: 0.9747\n",
      "Epoch 130/150\n",
      "480/480 [==============================] - 0s 992us/step - loss: 0.1373 - accuracy: 0.9944 - val_loss: 0.1920 - val_accuracy: 0.9756\n",
      "Epoch 131/150\n",
      "480/480 [==============================] - 0s 996us/step - loss: 0.1366 - accuracy: 0.9948 - val_loss: 0.1878 - val_accuracy: 0.9757\n",
      "Epoch 132/150\n",
      "480/480 [==============================] - 0s 981us/step - loss: 0.1360 - accuracy: 0.9948 - val_loss: 0.1901 - val_accuracy: 0.9760\n",
      "Epoch 133/150\n",
      "480/480 [==============================] - 0s 952us/step - loss: 0.1352 - accuracy: 0.9947 - val_loss: 0.1865 - val_accuracy: 0.9756\n",
      "Epoch 134/150\n",
      "480/480 [==============================] - 0s 948us/step - loss: 0.1345 - accuracy: 0.9949 - val_loss: 0.1863 - val_accuracy: 0.9762\n",
      "Epoch 135/150\n",
      "480/480 [==============================] - 0s 973us/step - loss: 0.1337 - accuracy: 0.9948 - val_loss: 0.1863 - val_accuracy: 0.9754\n",
      "Epoch 136/150\n",
      "480/480 [==============================] - 0s 992us/step - loss: 0.1330 - accuracy: 0.9947 - val_loss: 0.1870 - val_accuracy: 0.9753\n",
      "Epoch 137/150\n",
      "480/480 [==============================] - 0s 979us/step - loss: 0.1323 - accuracy: 0.9948 - val_loss: 0.1844 - val_accuracy: 0.9751\n",
      "Epoch 138/150\n",
      "480/480 [==============================] - 0s 981us/step - loss: 0.1317 - accuracy: 0.9948 - val_loss: 0.1837 - val_accuracy: 0.9763\n",
      "Epoch 139/150\n",
      "480/480 [==============================] - 0s 992us/step - loss: 0.1308 - accuracy: 0.9951 - val_loss: 0.1828 - val_accuracy: 0.9761\n",
      "Epoch 140/150\n",
      "480/480 [==============================] - 0s 975us/step - loss: 0.1302 - accuracy: 0.9952 - val_loss: 0.1827 - val_accuracy: 0.9754\n",
      "Epoch 141/150\n",
      "480/480 [==============================] - 0s 994us/step - loss: 0.1296 - accuracy: 0.9950 - val_loss: 0.1826 - val_accuracy: 0.9756\n",
      "Epoch 142/150\n",
      "480/480 [==============================] - 0s 975us/step - loss: 0.1288 - accuracy: 0.9952 - val_loss: 0.1831 - val_accuracy: 0.9759\n",
      "Epoch 143/150\n",
      "480/480 [==============================] - 0s 961us/step - loss: 0.1283 - accuracy: 0.9954 - val_loss: 0.1816 - val_accuracy: 0.9766\n",
      "Epoch 144/150\n",
      "480/480 [==============================] - 0s 987us/step - loss: 0.1278 - accuracy: 0.9955 - val_loss: 0.1817 - val_accuracy: 0.9759\n",
      "Epoch 145/150\n",
      "480/480 [==============================] - 0s 1ms/step - loss: 0.1273 - accuracy: 0.9957 - val_loss: 0.1795 - val_accuracy: 0.9754\n",
      "Epoch 146/150\n",
      "480/480 [==============================] - 0s 1ms/step - loss: 0.1265 - accuracy: 0.9956 - val_loss: 0.1814 - val_accuracy: 0.9756\n",
      "Epoch 147/150\n",
      "480/480 [==============================] - 0s 1ms/step - loss: 0.1259 - accuracy: 0.9954 - val_loss: 0.1805 - val_accuracy: 0.9759\n",
      "Epoch 148/150\n",
      "480/480 [==============================] - 0s 1ms/step - loss: 0.1254 - accuracy: 0.9956 - val_loss: 0.1809 - val_accuracy: 0.9758\n",
      "Epoch 149/150\n",
      "480/480 [==============================] - 0s 958us/step - loss: 0.1247 - accuracy: 0.9957 - val_loss: 0.1783 - val_accuracy: 0.9768\n",
      "Epoch 150/150\n",
      "480/480 [==============================] - 0s 1ms/step - loss: 0.1243 - accuracy: 0.9955 - val_loss: 0.1787 - val_accuracy: 0.9758\n",
      "313/313 [==============================] - 0s 657us/step - loss: 0.1694 - accuracy: 0.9778\n",
      "Test score: 0.16941377520561218\n",
      "Test accuracy: 0.9778000116348267\n"
     ]
    }
   ],
   "source": [
    "# turn off tensorflow info and warning messages\n",
    "import os\n",
    "os.environ['TF_CPP_MIN_LOG_LEVEL'] = '2' \n",
    "\n",
    "import numpy as np\n",
    "from keras.datasets import mnist\n",
    "from keras.models import Sequential\n",
    "from keras.layers.core import Dense\n",
    "from keras.utils import np_utils\n",
    "from keras import regularizers\n",
    "\n",
    "# download MNIST dataset\n",
    "(X_train, y_train), (X_test, y_test) = mnist.load_data()\n",
    "\n",
    "# reshape (28 x 28) images into (784 x 1)\n",
    "X_train = X_train.reshape(60000, 784)\n",
    "X_test = X_test.reshape(10000, 784)\n",
    "X_train = X_train.astype('float32')\n",
    "X_test = X_test.astype('float32')\n",
    "\n",
    "# normalize the data\n",
    "X_train /= 255\n",
    "X_test /= 255\n",
    "\n",
    "# one-hot encode the class labels (0-9)\n",
    "Y_train = np_utils.to_categorical(y_train, 10)\n",
    "Y_test = np_utils.to_categorical(y_test, 10)\n",
    "\n",
    "# regularization strength (we use the same for all hidden layers)\n",
    "alpha = 0.001\n",
    "\n",
    "# describe model architecture\n",
    "model = Sequential()\n",
    "model.add(Dense(128, activation='relu', kernel_regularizer=regularizers.l2(alpha), input_shape=(784,)))\n",
    "model.add(Dense(64, activation='relu', kernel_regularizer=regularizers.l2(alpha)))\n",
    "model.add(Dense(32, activation='relu', kernel_regularizer=regularizers.l2(alpha)))\n",
    "model.add(Dense(10, activation='softmax'))\n",
    "model.summary()\n",
    "\n",
    "# compile model\n",
    "model.compile(loss='categorical_crossentropy', optimizer='sgd', metrics=['accuracy'])\n",
    "\n",
    "# train model\n",
    "history = model.fit(X_train, Y_train, batch_size=100, epochs=150, verbose=1, validation_split=0.2)\n",
    "\n",
    "# compute loss and accuracy on test data\n",
    "score = model.evaluate(X_test, Y_test, verbose=1)\n",
    "print(\"Test score:\", score[0])\n",
    "print(\"Test accuracy:\", score[1])"
   ]
  },
  {
   "cell_type": "markdown",
   "metadata": {
    "pycharm": {
     "name": "#%% md\n"
    }
   },
   "source": [
    "As we can see, the accuracy on our test data has improved slightly. Now, we modify our above example by adding dropout to each of the hidden layers. The dropout probability (`drop_prob`) is set as $0.5$, which is a common choice in practice."
   ]
  },
  {
   "cell_type": "code",
   "execution_count": 16,
   "metadata": {
    "pycharm": {
     "name": "#%%\n"
    }
   },
   "outputs": [
    {
     "name": "stdout",
     "output_type": "stream",
     "text": [
      "Model: \"sequential_3\"\n",
      "_________________________________________________________________\n",
      " Layer (type)                Output Shape              Param #   \n",
      "=================================================================\n",
      " dense_11 (Dense)            (None, 128)               100480    \n",
      "                                                                 \n",
      " dropout (Dropout)           (None, 128)               0         \n",
      "                                                                 \n",
      " dense_12 (Dense)            (None, 64)                8256      \n",
      "                                                                 \n",
      " dropout_1 (Dropout)         (None, 64)                0         \n",
      "                                                                 \n",
      " dense_13 (Dense)            (None, 32)                2080      \n",
      "                                                                 \n",
      " dropout_2 (Dropout)         (None, 32)                0         \n",
      "                                                                 \n",
      " dense_14 (Dense)            (None, 10)                330       \n",
      "                                                                 \n",
      "=================================================================\n",
      "Total params: 111,146\n",
      "Trainable params: 111,146\n",
      "Non-trainable params: 0\n",
      "_________________________________________________________________\n",
      "Epoch 1/150\n",
      "480/480 [==============================] - 1s 1ms/step - loss: 2.2337 - accuracy: 0.1766 - val_loss: 1.9487 - val_accuracy: 0.5753\n",
      "Epoch 2/150\n",
      "480/480 [==============================] - 1s 1ms/step - loss: 1.9167 - accuracy: 0.3218 - val_loss: 1.4018 - val_accuracy: 0.7073\n",
      "Epoch 3/150\n",
      "480/480 [==============================] - 1s 1ms/step - loss: 1.6105 - accuracy: 0.4336 - val_loss: 0.9904 - val_accuracy: 0.7841\n",
      "Epoch 4/150\n",
      "480/480 [==============================] - 1s 1ms/step - loss: 1.3682 - accuracy: 0.5215 - val_loss: 0.7529 - val_accuracy: 0.8332\n",
      "Epoch 5/150\n",
      "480/480 [==============================] - 1s 1ms/step - loss: 1.1931 - accuracy: 0.5888 - val_loss: 0.6196 - val_accuracy: 0.8627\n",
      "Epoch 6/150\n",
      "480/480 [==============================] - 1s 1ms/step - loss: 1.0840 - accuracy: 0.6352 - val_loss: 0.5311 - val_accuracy: 0.8811\n",
      "Epoch 7/150\n",
      "480/480 [==============================] - 1s 1ms/step - loss: 0.9932 - accuracy: 0.6731 - val_loss: 0.4762 - val_accuracy: 0.8894\n",
      "Epoch 8/150\n",
      "480/480 [==============================] - 1s 1ms/step - loss: 0.9242 - accuracy: 0.7015 - val_loss: 0.4274 - val_accuracy: 0.8972\n",
      "Epoch 9/150\n",
      "480/480 [==============================] - 1s 1ms/step - loss: 0.8630 - accuracy: 0.7282 - val_loss: 0.3968 - val_accuracy: 0.9047\n",
      "Epoch 10/150\n",
      "480/480 [==============================] - 1s 1ms/step - loss: 0.8246 - accuracy: 0.7410 - val_loss: 0.3690 - val_accuracy: 0.9082\n",
      "Epoch 11/150\n",
      "480/480 [==============================] - 1s 1ms/step - loss: 0.7842 - accuracy: 0.7568 - val_loss: 0.3471 - val_accuracy: 0.9125\n",
      "Epoch 12/150\n",
      "480/480 [==============================] - 1s 1ms/step - loss: 0.7486 - accuracy: 0.7698 - val_loss: 0.3290 - val_accuracy: 0.9151\n",
      "Epoch 13/150\n",
      "480/480 [==============================] - 1s 1ms/step - loss: 0.7136 - accuracy: 0.7854 - val_loss: 0.3090 - val_accuracy: 0.9194\n",
      "Epoch 14/150\n",
      "480/480 [==============================] - 1s 1ms/step - loss: 0.6931 - accuracy: 0.7934 - val_loss: 0.3018 - val_accuracy: 0.9216\n",
      "Epoch 15/150\n",
      "480/480 [==============================] - 1s 1ms/step - loss: 0.6699 - accuracy: 0.8007 - val_loss: 0.2940 - val_accuracy: 0.9240\n",
      "Epoch 16/150\n",
      "480/480 [==============================] - 1s 1ms/step - loss: 0.6443 - accuracy: 0.8100 - val_loss: 0.2786 - val_accuracy: 0.9262\n",
      "Epoch 17/150\n",
      "480/480 [==============================] - 1s 1ms/step - loss: 0.6307 - accuracy: 0.8163 - val_loss: 0.2702 - val_accuracy: 0.9284\n",
      "Epoch 18/150\n",
      "480/480 [==============================] - 1s 1ms/step - loss: 0.6050 - accuracy: 0.8245 - val_loss: 0.2599 - val_accuracy: 0.9308\n",
      "Epoch 19/150\n",
      "480/480 [==============================] - 1s 1ms/step - loss: 0.5974 - accuracy: 0.8309 - val_loss: 0.2574 - val_accuracy: 0.9314\n",
      "Epoch 20/150\n",
      "480/480 [==============================] - 1s 1ms/step - loss: 0.5756 - accuracy: 0.8340 - val_loss: 0.2505 - val_accuracy: 0.9326\n",
      "Epoch 21/150\n",
      "480/480 [==============================] - 1s 1ms/step - loss: 0.5631 - accuracy: 0.8393 - val_loss: 0.2433 - val_accuracy: 0.9344\n",
      "Epoch 22/150\n",
      "480/480 [==============================] - 1s 1ms/step - loss: 0.5542 - accuracy: 0.8426 - val_loss: 0.2399 - val_accuracy: 0.9364\n",
      "Epoch 23/150\n",
      "480/480 [==============================] - 1s 1ms/step - loss: 0.5437 - accuracy: 0.8471 - val_loss: 0.2345 - val_accuracy: 0.9370\n",
      "Epoch 24/150\n",
      "480/480 [==============================] - 1s 1ms/step - loss: 0.5324 - accuracy: 0.8493 - val_loss: 0.2316 - val_accuracy: 0.9387\n",
      "Epoch 25/150\n",
      "480/480 [==============================] - 1s 1ms/step - loss: 0.5247 - accuracy: 0.8534 - val_loss: 0.2223 - val_accuracy: 0.9398\n",
      "Epoch 26/150\n",
      "480/480 [==============================] - 1s 1ms/step - loss: 0.5124 - accuracy: 0.8577 - val_loss: 0.2214 - val_accuracy: 0.9412\n",
      "Epoch 27/150\n",
      "480/480 [==============================] - 1s 1ms/step - loss: 0.5018 - accuracy: 0.8599 - val_loss: 0.2182 - val_accuracy: 0.9418\n",
      "Epoch 28/150\n",
      "480/480 [==============================] - 1s 1ms/step - loss: 0.4915 - accuracy: 0.8620 - val_loss: 0.2126 - val_accuracy: 0.9444\n",
      "Epoch 29/150\n",
      "480/480 [==============================] - 1s 1ms/step - loss: 0.4840 - accuracy: 0.8665 - val_loss: 0.2081 - val_accuracy: 0.9442\n",
      "Epoch 30/150\n",
      "480/480 [==============================] - 1s 1ms/step - loss: 0.4776 - accuracy: 0.8683 - val_loss: 0.2083 - val_accuracy: 0.9455\n",
      "Epoch 31/150\n",
      "480/480 [==============================] - 1s 1ms/step - loss: 0.4689 - accuracy: 0.8699 - val_loss: 0.2030 - val_accuracy: 0.9475\n",
      "Epoch 32/150\n",
      "480/480 [==============================] - 1s 1ms/step - loss: 0.4692 - accuracy: 0.8712 - val_loss: 0.2006 - val_accuracy: 0.9471\n",
      "Epoch 33/150\n",
      "480/480 [==============================] - 1s 1ms/step - loss: 0.4557 - accuracy: 0.8736 - val_loss: 0.1980 - val_accuracy: 0.9474\n",
      "Epoch 34/150\n",
      "480/480 [==============================] - 1s 1ms/step - loss: 0.4547 - accuracy: 0.8774 - val_loss: 0.1969 - val_accuracy: 0.9484\n",
      "Epoch 35/150\n",
      "480/480 [==============================] - 1s 1ms/step - loss: 0.4530 - accuracy: 0.8763 - val_loss: 0.1938 - val_accuracy: 0.9500\n",
      "Epoch 36/150\n",
      "480/480 [==============================] - 1s 1ms/step - loss: 0.4389 - accuracy: 0.8812 - val_loss: 0.1928 - val_accuracy: 0.9493\n",
      "Epoch 37/150\n",
      "480/480 [==============================] - 1s 1ms/step - loss: 0.4336 - accuracy: 0.8799 - val_loss: 0.1908 - val_accuracy: 0.9518\n",
      "Epoch 38/150\n",
      "480/480 [==============================] - 1s 1ms/step - loss: 0.4256 - accuracy: 0.8840 - val_loss: 0.1863 - val_accuracy: 0.9517\n",
      "Epoch 39/150\n",
      "480/480 [==============================] - 1s 1ms/step - loss: 0.4311 - accuracy: 0.8839 - val_loss: 0.1815 - val_accuracy: 0.9530\n",
      "Epoch 40/150\n",
      "480/480 [==============================] - 1s 1ms/step - loss: 0.4220 - accuracy: 0.8872 - val_loss: 0.1832 - val_accuracy: 0.9537\n",
      "Epoch 41/150\n",
      "480/480 [==============================] - 1s 1ms/step - loss: 0.4202 - accuracy: 0.8872 - val_loss: 0.1816 - val_accuracy: 0.9535\n",
      "Epoch 42/150\n",
      "480/480 [==============================] - 1s 1ms/step - loss: 0.4076 - accuracy: 0.8896 - val_loss: 0.1797 - val_accuracy: 0.9544\n",
      "Epoch 43/150\n",
      "480/480 [==============================] - 1s 1ms/step - loss: 0.4114 - accuracy: 0.8889 - val_loss: 0.1775 - val_accuracy: 0.9559\n",
      "Epoch 44/150\n",
      "480/480 [==============================] - 1s 1ms/step - loss: 0.4040 - accuracy: 0.8914 - val_loss: 0.1739 - val_accuracy: 0.9567\n",
      "Epoch 45/150\n",
      "480/480 [==============================] - 1s 1ms/step - loss: 0.4014 - accuracy: 0.8932 - val_loss: 0.1727 - val_accuracy: 0.9571\n",
      "Epoch 46/150\n",
      "480/480 [==============================] - 1s 1ms/step - loss: 0.3927 - accuracy: 0.8959 - val_loss: 0.1716 - val_accuracy: 0.9580\n",
      "Epoch 47/150\n",
      "480/480 [==============================] - 1s 1ms/step - loss: 0.3920 - accuracy: 0.8958 - val_loss: 0.1711 - val_accuracy: 0.9577\n",
      "Epoch 48/150\n",
      "480/480 [==============================] - 1s 1ms/step - loss: 0.3856 - accuracy: 0.8972 - val_loss: 0.1730 - val_accuracy: 0.9571\n",
      "Epoch 49/150\n",
      "480/480 [==============================] - 1s 1ms/step - loss: 0.3812 - accuracy: 0.8987 - val_loss: 0.1691 - val_accuracy: 0.9578\n",
      "Epoch 50/150\n",
      "480/480 [==============================] - 1s 1ms/step - loss: 0.3780 - accuracy: 0.9001 - val_loss: 0.1651 - val_accuracy: 0.9587\n",
      "Epoch 51/150\n",
      "480/480 [==============================] - 1s 1ms/step - loss: 0.3646 - accuracy: 0.9020 - val_loss: 0.1674 - val_accuracy: 0.9592\n",
      "Epoch 52/150\n",
      "480/480 [==============================] - 1s 1ms/step - loss: 0.3684 - accuracy: 0.9007 - val_loss: 0.1640 - val_accuracy: 0.9592\n",
      "Epoch 53/150\n",
      "480/480 [==============================] - 1s 1ms/step - loss: 0.3700 - accuracy: 0.9004 - val_loss: 0.1655 - val_accuracy: 0.9599\n",
      "Epoch 54/150\n",
      "480/480 [==============================] - 1s 1ms/step - loss: 0.3658 - accuracy: 0.9018 - val_loss: 0.1649 - val_accuracy: 0.9601\n",
      "Epoch 55/150\n",
      "480/480 [==============================] - 1s 1ms/step - loss: 0.3623 - accuracy: 0.9026 - val_loss: 0.1652 - val_accuracy: 0.9593\n",
      "Epoch 56/150\n",
      "480/480 [==============================] - 1s 1ms/step - loss: 0.3597 - accuracy: 0.9051 - val_loss: 0.1631 - val_accuracy: 0.9611\n",
      "Epoch 57/150\n",
      "480/480 [==============================] - 1s 1ms/step - loss: 0.3608 - accuracy: 0.9034 - val_loss: 0.1590 - val_accuracy: 0.9613\n",
      "Epoch 58/150\n",
      "480/480 [==============================] - 1s 1ms/step - loss: 0.3561 - accuracy: 0.9054 - val_loss: 0.1588 - val_accuracy: 0.9611\n",
      "Epoch 59/150\n",
      "480/480 [==============================] - 1s 1ms/step - loss: 0.3474 - accuracy: 0.9068 - val_loss: 0.1568 - val_accuracy: 0.9603\n",
      "Epoch 60/150\n",
      "480/480 [==============================] - 1s 1ms/step - loss: 0.3507 - accuracy: 0.9058 - val_loss: 0.1561 - val_accuracy: 0.9619\n",
      "Epoch 61/150\n",
      "480/480 [==============================] - 1s 1ms/step - loss: 0.3435 - accuracy: 0.9089 - val_loss: 0.1585 - val_accuracy: 0.9616\n",
      "Epoch 62/150\n",
      "480/480 [==============================] - 1s 1ms/step - loss: 0.3490 - accuracy: 0.9088 - val_loss: 0.1572 - val_accuracy: 0.9610\n",
      "Epoch 63/150\n",
      "480/480 [==============================] - 1s 1ms/step - loss: 0.3424 - accuracy: 0.9088 - val_loss: 0.1578 - val_accuracy: 0.9625\n",
      "Epoch 64/150\n",
      "480/480 [==============================] - 1s 1ms/step - loss: 0.3378 - accuracy: 0.9094 - val_loss: 0.1562 - val_accuracy: 0.9620\n",
      "Epoch 65/150\n",
      "480/480 [==============================] - 1s 1ms/step - loss: 0.3385 - accuracy: 0.9093 - val_loss: 0.1561 - val_accuracy: 0.9619\n",
      "Epoch 66/150\n",
      "480/480 [==============================] - 1s 1ms/step - loss: 0.3296 - accuracy: 0.9119 - val_loss: 0.1531 - val_accuracy: 0.9634\n",
      "Epoch 67/150\n",
      "480/480 [==============================] - 1s 1ms/step - loss: 0.3331 - accuracy: 0.9124 - val_loss: 0.1552 - val_accuracy: 0.9627\n",
      "Epoch 68/150\n",
      "480/480 [==============================] - 1s 1ms/step - loss: 0.3310 - accuracy: 0.9115 - val_loss: 0.1517 - val_accuracy: 0.9635\n",
      "Epoch 69/150\n",
      "480/480 [==============================] - 1s 1ms/step - loss: 0.3284 - accuracy: 0.9138 - val_loss: 0.1495 - val_accuracy: 0.9639\n",
      "Epoch 70/150\n",
      "480/480 [==============================] - 1s 1ms/step - loss: 0.3231 - accuracy: 0.9141 - val_loss: 0.1535 - val_accuracy: 0.9638\n",
      "Epoch 71/150\n",
      "480/480 [==============================] - 1s 1ms/step - loss: 0.3217 - accuracy: 0.9160 - val_loss: 0.1529 - val_accuracy: 0.9633\n",
      "Epoch 72/150\n",
      "480/480 [==============================] - 1s 1ms/step - loss: 0.3206 - accuracy: 0.9154 - val_loss: 0.1482 - val_accuracy: 0.9647\n",
      "Epoch 73/150\n",
      "480/480 [==============================] - 1s 1ms/step - loss: 0.3195 - accuracy: 0.9152 - val_loss: 0.1527 - val_accuracy: 0.9635\n",
      "Epoch 74/150\n",
      "480/480 [==============================] - 1s 1ms/step - loss: 0.3179 - accuracy: 0.9161 - val_loss: 0.1501 - val_accuracy: 0.9634\n",
      "Epoch 75/150\n",
      "480/480 [==============================] - 1s 1ms/step - loss: 0.3163 - accuracy: 0.9155 - val_loss: 0.1518 - val_accuracy: 0.9643\n",
      "Epoch 76/150\n",
      "480/480 [==============================] - 1s 1ms/step - loss: 0.3177 - accuracy: 0.9156 - val_loss: 0.1531 - val_accuracy: 0.9631\n",
      "Epoch 77/150\n",
      "480/480 [==============================] - 1s 1ms/step - loss: 0.3129 - accuracy: 0.9171 - val_loss: 0.1488 - val_accuracy: 0.9647\n",
      "Epoch 78/150\n",
      "480/480 [==============================] - 1s 1ms/step - loss: 0.3155 - accuracy: 0.9182 - val_loss: 0.1525 - val_accuracy: 0.9642\n",
      "Epoch 79/150\n",
      "480/480 [==============================] - 1s 1ms/step - loss: 0.3096 - accuracy: 0.9193 - val_loss: 0.1520 - val_accuracy: 0.9643\n",
      "Epoch 80/150\n",
      "480/480 [==============================] - 1s 1ms/step - loss: 0.3020 - accuracy: 0.9196 - val_loss: 0.1484 - val_accuracy: 0.9633\n",
      "Epoch 81/150\n",
      "480/480 [==============================] - 1s 1ms/step - loss: 0.3051 - accuracy: 0.9200 - val_loss: 0.1491 - val_accuracy: 0.9644\n",
      "Epoch 82/150\n",
      "480/480 [==============================] - 1s 1ms/step - loss: 0.3076 - accuracy: 0.9189 - val_loss: 0.1476 - val_accuracy: 0.9643\n",
      "Epoch 83/150\n",
      "480/480 [==============================] - 1s 1ms/step - loss: 0.2992 - accuracy: 0.9198 - val_loss: 0.1487 - val_accuracy: 0.9645\n",
      "Epoch 84/150\n",
      "480/480 [==============================] - 1s 1ms/step - loss: 0.3031 - accuracy: 0.9209 - val_loss: 0.1502 - val_accuracy: 0.9641\n",
      "Epoch 85/150\n",
      "480/480 [==============================] - 1s 1ms/step - loss: 0.2975 - accuracy: 0.9212 - val_loss: 0.1454 - val_accuracy: 0.9649\n",
      "Epoch 86/150\n",
      "480/480 [==============================] - 1s 1ms/step - loss: 0.3030 - accuracy: 0.9201 - val_loss: 0.1494 - val_accuracy: 0.9645\n",
      "Epoch 87/150\n",
      "480/480 [==============================] - 1s 1ms/step - loss: 0.2933 - accuracy: 0.9220 - val_loss: 0.1492 - val_accuracy: 0.9648\n",
      "Epoch 88/150\n",
      "480/480 [==============================] - 1s 1ms/step - loss: 0.2932 - accuracy: 0.9227 - val_loss: 0.1462 - val_accuracy: 0.9655\n",
      "Epoch 89/150\n",
      "480/480 [==============================] - 1s 1ms/step - loss: 0.2868 - accuracy: 0.9243 - val_loss: 0.1478 - val_accuracy: 0.9647\n",
      "Epoch 90/150\n",
      "480/480 [==============================] - 1s 1ms/step - loss: 0.2883 - accuracy: 0.9237 - val_loss: 0.1486 - val_accuracy: 0.9648\n",
      "Epoch 91/150\n",
      "480/480 [==============================] - 1s 1ms/step - loss: 0.2891 - accuracy: 0.9237 - val_loss: 0.1478 - val_accuracy: 0.9652\n",
      "Epoch 92/150\n",
      "480/480 [==============================] - 1s 1ms/step - loss: 0.2892 - accuracy: 0.9235 - val_loss: 0.1471 - val_accuracy: 0.9647\n",
      "Epoch 93/150\n",
      "480/480 [==============================] - 1s 1ms/step - loss: 0.2898 - accuracy: 0.9232 - val_loss: 0.1451 - val_accuracy: 0.9654\n",
      "Epoch 94/150\n",
      "480/480 [==============================] - 1s 1ms/step - loss: 0.2829 - accuracy: 0.9256 - val_loss: 0.1447 - val_accuracy: 0.9660\n",
      "Epoch 95/150\n",
      "480/480 [==============================] - 1s 1ms/step - loss: 0.2814 - accuracy: 0.9234 - val_loss: 0.1475 - val_accuracy: 0.9655\n",
      "Epoch 96/150\n",
      "480/480 [==============================] - 1s 1ms/step - loss: 0.2817 - accuracy: 0.9260 - val_loss: 0.1424 - val_accuracy: 0.9667\n",
      "Epoch 97/150\n",
      "480/480 [==============================] - 1s 1ms/step - loss: 0.2786 - accuracy: 0.9244 - val_loss: 0.1455 - val_accuracy: 0.9653\n",
      "Epoch 98/150\n",
      "480/480 [==============================] - 1s 1ms/step - loss: 0.2803 - accuracy: 0.9259 - val_loss: 0.1461 - val_accuracy: 0.9651\n",
      "Epoch 99/150\n",
      "480/480 [==============================] - 1s 1ms/step - loss: 0.2787 - accuracy: 0.9261 - val_loss: 0.1461 - val_accuracy: 0.9653\n",
      "Epoch 100/150\n",
      "480/480 [==============================] - 1s 1ms/step - loss: 0.2747 - accuracy: 0.9260 - val_loss: 0.1487 - val_accuracy: 0.9649\n",
      "Epoch 101/150\n",
      "480/480 [==============================] - 1s 1ms/step - loss: 0.2720 - accuracy: 0.9265 - val_loss: 0.1495 - val_accuracy: 0.9651\n",
      "Epoch 102/150\n",
      "480/480 [==============================] - 1s 1ms/step - loss: 0.2743 - accuracy: 0.9283 - val_loss: 0.1486 - val_accuracy: 0.9654\n",
      "Epoch 103/150\n",
      "480/480 [==============================] - 1s 1ms/step - loss: 0.2786 - accuracy: 0.9267 - val_loss: 0.1492 - val_accuracy: 0.9657\n",
      "Epoch 104/150\n",
      "480/480 [==============================] - 1s 1ms/step - loss: 0.2725 - accuracy: 0.9271 - val_loss: 0.1460 - val_accuracy: 0.9672\n",
      "Epoch 105/150\n",
      "480/480 [==============================] - 1s 1ms/step - loss: 0.2732 - accuracy: 0.9270 - val_loss: 0.1455 - val_accuracy: 0.9663\n",
      "Epoch 106/150\n",
      "480/480 [==============================] - 1s 1ms/step - loss: 0.2659 - accuracy: 0.9292 - val_loss: 0.1459 - val_accuracy: 0.9659\n",
      "Epoch 107/150\n",
      "480/480 [==============================] - 1s 1ms/step - loss: 0.2704 - accuracy: 0.9291 - val_loss: 0.1435 - val_accuracy: 0.9670\n",
      "Epoch 108/150\n",
      "480/480 [==============================] - 1s 1ms/step - loss: 0.2719 - accuracy: 0.9289 - val_loss: 0.1418 - val_accuracy: 0.9664\n",
      "Epoch 109/150\n",
      "480/480 [==============================] - 1s 1ms/step - loss: 0.2610 - accuracy: 0.9314 - val_loss: 0.1437 - val_accuracy: 0.9670\n",
      "Epoch 110/150\n",
      "480/480 [==============================] - 1s 1ms/step - loss: 0.2719 - accuracy: 0.9283 - val_loss: 0.1449 - val_accuracy: 0.9669\n",
      "Epoch 111/150\n",
      "480/480 [==============================] - 1s 1ms/step - loss: 0.2625 - accuracy: 0.9300 - val_loss: 0.1432 - val_accuracy: 0.9670\n",
      "Epoch 112/150\n",
      "480/480 [==============================] - 1s 1ms/step - loss: 0.2614 - accuracy: 0.9311 - val_loss: 0.1447 - val_accuracy: 0.9675\n",
      "Epoch 113/150\n",
      "480/480 [==============================] - 1s 1ms/step - loss: 0.2620 - accuracy: 0.9295 - val_loss: 0.1432 - val_accuracy: 0.9678\n",
      "Epoch 114/150\n",
      "480/480 [==============================] - 1s 1ms/step - loss: 0.2648 - accuracy: 0.9296 - val_loss: 0.1433 - val_accuracy: 0.9667\n",
      "Epoch 115/150\n",
      "480/480 [==============================] - 1s 1ms/step - loss: 0.2685 - accuracy: 0.9304 - val_loss: 0.1428 - val_accuracy: 0.9671\n",
      "Epoch 116/150\n",
      "480/480 [==============================] - 1s 1ms/step - loss: 0.2628 - accuracy: 0.9304 - val_loss: 0.1403 - val_accuracy: 0.9673\n",
      "Epoch 117/150\n",
      "480/480 [==============================] - 1s 1ms/step - loss: 0.2563 - accuracy: 0.9319 - val_loss: 0.1430 - val_accuracy: 0.9679\n",
      "Epoch 118/150\n",
      "480/480 [==============================] - 1s 1ms/step - loss: 0.2597 - accuracy: 0.9298 - val_loss: 0.1423 - val_accuracy: 0.9681\n",
      "Epoch 119/150\n",
      "480/480 [==============================] - 1s 1ms/step - loss: 0.2566 - accuracy: 0.9317 - val_loss: 0.1443 - val_accuracy: 0.9673\n",
      "Epoch 120/150\n",
      "480/480 [==============================] - 1s 1ms/step - loss: 0.2527 - accuracy: 0.9318 - val_loss: 0.1443 - val_accuracy: 0.9672\n",
      "Epoch 121/150\n",
      "480/480 [==============================] - 1s 1ms/step - loss: 0.2511 - accuracy: 0.9326 - val_loss: 0.1443 - val_accuracy: 0.9678\n",
      "Epoch 122/150\n",
      "480/480 [==============================] - 1s 1ms/step - loss: 0.2505 - accuracy: 0.9335 - val_loss: 0.1434 - val_accuracy: 0.9671\n",
      "Epoch 123/150\n",
      "480/480 [==============================] - 1s 1ms/step - loss: 0.2588 - accuracy: 0.9315 - val_loss: 0.1453 - val_accuracy: 0.9680\n",
      "Epoch 124/150\n",
      "480/480 [==============================] - 1s 1ms/step - loss: 0.2510 - accuracy: 0.9339 - val_loss: 0.1438 - val_accuracy: 0.9672\n",
      "Epoch 125/150\n",
      "480/480 [==============================] - 1s 1ms/step - loss: 0.2536 - accuracy: 0.9323 - val_loss: 0.1397 - val_accuracy: 0.9682\n",
      "Epoch 126/150\n",
      "480/480 [==============================] - 1s 1ms/step - loss: 0.2498 - accuracy: 0.9345 - val_loss: 0.1415 - val_accuracy: 0.9677\n",
      "Epoch 127/150\n",
      "480/480 [==============================] - 1s 1ms/step - loss: 0.2493 - accuracy: 0.9334 - val_loss: 0.1432 - val_accuracy: 0.9671\n",
      "Epoch 128/150\n",
      "480/480 [==============================] - 1s 1ms/step - loss: 0.2438 - accuracy: 0.9336 - val_loss: 0.1453 - val_accuracy: 0.9682\n",
      "Epoch 129/150\n",
      "480/480 [==============================] - 1s 1ms/step - loss: 0.2441 - accuracy: 0.9348 - val_loss: 0.1439 - val_accuracy: 0.9681\n",
      "Epoch 130/150\n",
      "480/480 [==============================] - 1s 1ms/step - loss: 0.2429 - accuracy: 0.9361 - val_loss: 0.1432 - val_accuracy: 0.9680\n",
      "Epoch 131/150\n",
      "480/480 [==============================] - 1s 1ms/step - loss: 0.2434 - accuracy: 0.9362 - val_loss: 0.1454 - val_accuracy: 0.9673\n",
      "Epoch 132/150\n",
      "480/480 [==============================] - 1s 1ms/step - loss: 0.2405 - accuracy: 0.9362 - val_loss: 0.1495 - val_accuracy: 0.9670\n",
      "Epoch 133/150\n",
      "480/480 [==============================] - 1s 1ms/step - loss: 0.2420 - accuracy: 0.9351 - val_loss: 0.1453 - val_accuracy: 0.9679\n",
      "Epoch 134/150\n",
      "480/480 [==============================] - 1s 1ms/step - loss: 0.2440 - accuracy: 0.9353 - val_loss: 0.1462 - val_accuracy: 0.9672\n",
      "Epoch 135/150\n",
      "480/480 [==============================] - 1s 1ms/step - loss: 0.2476 - accuracy: 0.9345 - val_loss: 0.1433 - val_accuracy: 0.9687\n",
      "Epoch 136/150\n",
      "480/480 [==============================] - 1s 1ms/step - loss: 0.2363 - accuracy: 0.9363 - val_loss: 0.1414 - val_accuracy: 0.9682\n",
      "Epoch 137/150\n",
      "480/480 [==============================] - 1s 1ms/step - loss: 0.2411 - accuracy: 0.9360 - val_loss: 0.1449 - val_accuracy: 0.9675\n",
      "Epoch 138/150\n",
      "480/480 [==============================] - 1s 1ms/step - loss: 0.2439 - accuracy: 0.9358 - val_loss: 0.1426 - val_accuracy: 0.9688\n",
      "Epoch 139/150\n",
      "480/480 [==============================] - 1s 1ms/step - loss: 0.2388 - accuracy: 0.9361 - val_loss: 0.1410 - val_accuracy: 0.9680\n",
      "Epoch 140/150\n",
      "480/480 [==============================] - 1s 1ms/step - loss: 0.2416 - accuracy: 0.9361 - val_loss: 0.1445 - val_accuracy: 0.9683\n",
      "Epoch 141/150\n",
      "480/480 [==============================] - 1s 1ms/step - loss: 0.2322 - accuracy: 0.9383 - val_loss: 0.1432 - val_accuracy: 0.9685\n",
      "Epoch 142/150\n",
      "480/480 [==============================] - 1s 1ms/step - loss: 0.2437 - accuracy: 0.9355 - val_loss: 0.1419 - val_accuracy: 0.9677\n",
      "Epoch 143/150\n",
      "480/480 [==============================] - 1s 1ms/step - loss: 0.2359 - accuracy: 0.9381 - val_loss: 0.1416 - val_accuracy: 0.9678\n",
      "Epoch 144/150\n",
      "480/480 [==============================] - 1s 1ms/step - loss: 0.2315 - accuracy: 0.9379 - val_loss: 0.1422 - val_accuracy: 0.9689\n",
      "Epoch 145/150\n",
      "480/480 [==============================] - 1s 1ms/step - loss: 0.2318 - accuracy: 0.9374 - val_loss: 0.1451 - val_accuracy: 0.9688\n",
      "Epoch 146/150\n",
      "480/480 [==============================] - 1s 1ms/step - loss: 0.2350 - accuracy: 0.9386 - val_loss: 0.1432 - val_accuracy: 0.9678\n",
      "Epoch 147/150\n",
      "480/480 [==============================] - 1s 1ms/step - loss: 0.2315 - accuracy: 0.9385 - val_loss: 0.1489 - val_accuracy: 0.9677\n",
      "Epoch 148/150\n",
      "480/480 [==============================] - 1s 1ms/step - loss: 0.2343 - accuracy: 0.9371 - val_loss: 0.1455 - val_accuracy: 0.9684\n",
      "Epoch 149/150\n",
      "480/480 [==============================] - 1s 1ms/step - loss: 0.2272 - accuracy: 0.9385 - val_loss: 0.1494 - val_accuracy: 0.9669\n",
      "Epoch 150/150\n",
      "480/480 [==============================] - 1s 1ms/step - loss: 0.2273 - accuracy: 0.9398 - val_loss: 0.1464 - val_accuracy: 0.9679\n",
      "313/313 [==============================] - 0s 654us/step - loss: 0.1429 - accuracy: 0.9666\n",
      "Test score: 0.14286750555038452\n",
      "Test accuracy: 0.9666000008583069\n"
     ]
    }
   ],
   "source": [
    "# turn off tensorflow info and warning messages\n",
    "import os\n",
    "os.environ['TF_CPP_MIN_LOG_LEVEL'] = '2' \n",
    "\n",
    "import numpy as np\n",
    "from keras.datasets import mnist\n",
    "from keras.models import Sequential\n",
    "from keras.layers.core import Dense, Dropout\n",
    "from keras.utils import np_utils\n",
    "\n",
    "# download MNIST dataset\n",
    "(X_train, y_train), (X_test, y_test) = mnist.load_data()\n",
    "\n",
    "# reshape (28 x 28) images into (784 x 1)\n",
    "X_train = X_train.reshape(60000, 784)\n",
    "X_test = X_test.reshape(10000, 784)\n",
    "X_train = X_train.astype('float32')\n",
    "X_test = X_test.astype('float32')\n",
    "\n",
    "# normalize the data\n",
    "X_train /= 255\n",
    "X_test /= 255\n",
    "\n",
    "# one-hot encode the class labels (0-9)\n",
    "Y_train = np_utils.to_categorical(y_train, 10)\n",
    "Y_test = np_utils.to_categorical(y_test, 10)\n",
    "\n",
    "# dropout probability\n",
    "drop_prob = 0.5\n",
    "\n",
    "# describe model architecture\n",
    "model = Sequential()\n",
    "model.add(Dense(128, activation='relu', input_shape=(784,)))\n",
    "model.add(Dropout(drop_prob))\n",
    "model.add(Dense(64, activation='relu'))\n",
    "model.add(Dropout(drop_prob))\n",
    "model.add(Dense(32, activation='relu'))\n",
    "model.add(Dropout(drop_prob))\n",
    "model.add(Dense(10, activation='softmax'))\n",
    "model.summary()\n",
    "\n",
    "# compile model\n",
    "model.compile(loss='categorical_crossentropy', optimizer='sgd', metrics=['accuracy'])\n",
    "\n",
    "# train model\n",
    "history = model.fit(X_train, Y_train, batch_size=100, epochs=150, verbose=1, validation_split=0.2)\n",
    "\n",
    "# compute loss and accuracy on test data\n",
    "score = model.evaluate(X_test, Y_test, verbose=1)\n",
    "print(\"Test score:\", score[0])\n",
    "print(\"Test accuracy:\", score[1])"
   ]
  },
  {
   "cell_type": "markdown",
   "metadata": {
    "pycharm": {
     "name": "#%% md\n"
    }
   },
   "source": [
    "***\n",
    "# Some Ideas for Next Steps\n",
    "\n",
    "To get familiar with Keras and hone your coding skills, I recommend that you modify the above examples. Here are some ideas for things to try out:\n",
    "- Modify the architectures of the above neural networks, for instance, by adding additional layers, changing the activation function, or modifying the number of neurons per hidden layer\n",
    "- Zalando has released [Fashion-MNIST](https://github.com/zalandoresearch/fashion-mnist) as a drop-in replacement for MNIST. It is a dataset that looks exactly like the MNIST dataset, but consists of grayscale images of clothes. Use that dataset instead of MNIST and see how well the neural networks perform.\n",
    "- The above feed-forward neural networks consider each pixel in an MNIST image in isolation. That is, the location of the pixels in the image does not play a role, nor does the model recognize any spatial patterns (e.g., a group of black pixels) in the images. To see this, you can determine a random permutation of the pixels (e.g., pixel at position 0 gets mapped to 171, pixel at position 171 gets mapped to 267 etc.) and apply the same permutation to all images. The performance of the neural network will not change (except for random effects due to batch sampling).\n",
    "- Try adding regularization and/or dropout to the neural network for movie classification. It clearly overfits as we can see from the increasing validation loss and decreasing validation accuracy.\n",
    "- Modify the representation of the movie reviews. Instead of using a 10000-dimensional binary vector, you could use a vector that keeps word counts (i.e., how often a word occurs in the review)."
   ]
  }
 ],
 "metadata": {
  "kernelspec": {
   "display_name": "Python 3 (ipykernel)",
   "language": "python",
   "name": "python3"
  },
  "language_info": {
   "codemirror_mode": {
    "name": "ipython",
    "version": 3
   },
   "file_extension": ".py",
   "mimetype": "text/x-python",
   "name": "python",
   "nbconvert_exporter": "python",
   "pygments_lexer": "ipython3",
   "version": "3.9.12"
  }
 },
 "nbformat": 4,
 "nbformat_minor": 4
}